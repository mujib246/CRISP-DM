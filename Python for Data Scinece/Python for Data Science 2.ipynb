{
 "cells": [
  {
   "cell_type": "markdown",
   "source": "### Pandas",
   "metadata": {
    "is_collapsed": false,
    "cell_id": "4309b1cdc5d94c32b974c9f42b8276de",
    "tags": [],
    "formattedRanges": [],
    "deepnote_cell_type": "text-cell-h3"
   }
  },
  {
   "cell_type": "markdown",
   "source": "Pandas is one of the most popular data science libraries in Python. Easy to use, it is built on top of NumPy and shares many functions and properties.",
   "metadata": {
    "is_collapsed": false,
    "cell_id": "0df0d9c8dc034187a4ab58f516e0416e",
    "tags": [],
    "formattedRanges": [],
    "deepnote_cell_type": "text-cell-p"
   }
  },
  {
   "cell_type": "markdown",
   "source": "With Pandas, you can read and extract data from files, transform and analyze it, calculate statistics and correlations, and much more!",
   "metadata": {
    "is_collapsed": false,
    "cell_id": "0444d88e-eb77-48c5-b4d8-043e76a6731f",
    "tags": [],
    "formattedRanges": [],
    "deepnote_cell_type": "text-cell-p"
   }
  },
  {
   "cell_type": "markdown",
   "source": "To start using pandas, we need to import it first:",
   "metadata": {
    "is_collapsed": false,
    "cell_id": "e0b9d1c1-0045-4749-a16b-264c62bae842",
    "tags": [],
    "formattedRanges": [],
    "deepnote_cell_type": "text-cell-p"
   }
  },
  {
   "cell_type": "code",
   "source": "import pandas as pd\n# pd is a common short name used when importing the library.",
   "metadata": {
    "cell_id": "07083c6634cf43b796e8b963340467b5",
    "tags": [],
    "deepnote_cell_type": "code",
    "deepnote_cell_height": 84
   },
   "outputs": [],
   "execution_count": null
  },
  {
   "cell_type": "markdown",
   "source": "Pandas is derived from the term \"panel data\", an econometrics term for data sets that include observations over multiple time periods for the same individuals.",
   "metadata": {
    "is_collapsed": false,
    "cell_id": "c5703acb27fc4c3c974c9048ca7bdee7",
    "tags": [],
    "formattedRanges": [],
    "deepnote_cell_type": "text-cell-p"
   }
  },
  {
   "cell_type": "markdown",
   "source": "### Series & DataFrames",
   "metadata": {
    "is_collapsed": false,
    "cell_id": "7017275f51354b429256437032f603fe",
    "tags": [],
    "formattedRanges": [],
    "deepnote_cell_type": "text-cell-h3"
   }
  },
  {
   "cell_type": "markdown",
   "source": "The two primary components of pandas are the Series and the DataFrame.",
   "metadata": {
    "is_collapsed": false,
    "cell_id": "e020f17efc7c4594937796b9fc70f3ea",
    "tags": [],
    "formattedRanges": [],
    "deepnote_cell_type": "text-cell-p"
   }
  },
  {
   "cell_type": "markdown",
   "source": "A Series is essentially a column, and a DataFrame is a multi-dimensional table made up of a collection of Series.",
   "metadata": {
    "is_collapsed": false,
    "cell_id": "1bbba0d0-b549-4c50-ba2f-2bee85e3b5e4",
    "tags": [],
    "formattedRanges": [],
    "deepnote_cell_type": "text-cell-p"
   }
  },
  {
   "cell_type": "markdown",
   "source": "For example, the following DataFrame is made of two Series, ages and heights",
   "metadata": {
    "is_collapsed": false,
    "cell_id": "0be5e4af-8570-4ecd-a6cd-5e9a9314ab17",
    "tags": [],
    "formattedRanges": [],
    "deepnote_cell_type": "text-cell-p"
   }
  },
  {
   "cell_type": "markdown",
   "source": "![Picture title](image-20220919-121542.png)",
   "metadata": {
    "cell_id": "7bcef2314b1d4458b950b75546cab771",
    "tags": [],
    "deepnote_cell_type": "markdown",
    "deepnote_cell_height": 296.734375
   }
  },
  {
   "cell_type": "markdown",
   "source": "You can think of a Series as a one-dimensional array, while a DataFrame is a multi-dimensional array.",
   "metadata": {
    "is_collapsed": false,
    "cell_id": "1846d7d8fc294202a8f2ded64aed6c23",
    "tags": [],
    "formattedRanges": [],
    "deepnote_cell_type": "text-cell-p"
   }
  },
  {
   "cell_type": "markdown",
   "source": "### DataFrames",
   "metadata": {
    "is_collapsed": false,
    "cell_id": "18e7b7f9786e4f9b8bd6b77becc171bd",
    "tags": [],
    "formattedRanges": [],
    "deepnote_cell_type": "text-cell-h3"
   }
  },
  {
   "cell_type": "markdown",
   "source": "Before working with real data, let's first create a DataFrame manually to explore its functions.\r\nThe easiest way to create a DataFrame is using a dictionary:",
   "metadata": {
    "is_collapsed": false,
    "cell_id": "50413c86bfc64dc3b1fe161551b3fbf8",
    "tags": [],
    "formattedRanges": [],
    "deepnote_cell_type": "text-cell-p"
   }
  },
  {
   "cell_type": "code",
   "source": "data = {\n   'ages': [14, 18, 24, 42],\n   'heights': [165, 180, 176, 184]\n}",
   "metadata": {
    "cell_id": "8c139c2241574bbab1a278ed2e8ee739",
    "tags": [],
    "deepnote_cell_type": "code",
    "deepnote_cell_height": 115
   },
   "outputs": [],
   "execution_count": null
  },
  {
   "cell_type": "markdown",
   "source": "Each key is a column, while the value is an array representing the data for that column.",
   "metadata": {
    "is_collapsed": false,
    "cell_id": "ac26c44c35b14ab2b5dec69b80ba3de1",
    "tags": [],
    "formattedRanges": [],
    "deepnote_cell_type": "text-cell-p"
   }
  },
  {
   "cell_type": "markdown",
   "source": "Now, we can pass this dictionary to the DataFrame constructor:",
   "metadata": {
    "is_collapsed": false,
    "cell_id": "53e39ab7-0185-41f5-afc9-9585fb33b4c2",
    "tags": [],
    "formattedRanges": [],
    "deepnote_cell_type": "text-cell-p"
   }
  },
  {
   "cell_type": "code",
   "source": "# Run the code to see the resulting DataFrame.\nimport pandas as pd\n\ndata = {\n   'ages': [14, 18, 24, 42],\n   'heights': [165, 180, 176, 184]\n}\n\ndf = pd.DataFrame(data)\nprint(df)",
   "metadata": {
    "cell_id": "118ccbdd1e314107a25f1b5ca28500c3",
    "tags": [],
    "deepnote_cell_type": "code",
    "deepnote_cell_height": 228
   },
   "outputs": [],
   "execution_count": null
  },
  {
   "cell_type": "markdown",
   "source": "The DataFrame automatically creates a numeric index for each row.\r\nWe can specify a custom index, when creating the DataFrame:",
   "metadata": {
    "is_collapsed": false,
    "cell_id": "14c1b1d6efcb474ea2232fd9e8427921",
    "tags": [],
    "formattedRanges": [],
    "deepnote_cell_type": "text-cell-p"
   }
  },
  {
   "cell_type": "code",
   "source": "import pandas as pd\n\ndata = {\n   'ages': [14, 18, 24, 42],\n   'heights': [165, 180, 176, 184]\n}\n\ndf = pd.DataFrame(data, index=['James', 'Bob', 'Amy', 'Dave'])\nprint(df)",
   "metadata": {
    "cell_id": "a9957959c997434dacb25f5c5908cf09",
    "tags": [],
    "deepnote_cell_type": "code",
    "deepnote_cell_height": 210
   },
   "outputs": [],
   "execution_count": null
  },
  {
   "cell_type": "markdown",
   "source": "Now we can access a row using its index and the loc[] function:",
   "metadata": {
    "is_collapsed": false,
    "cell_id": "d2231fde2ad34883ab81d0e86334d109",
    "tags": [],
    "formattedRanges": [],
    "deepnote_cell_type": "text-cell-p"
   }
  },
  {
   "cell_type": "code",
   "source": "import pandas as pd\n\ndata = {\n   'ages': [14, 18, 24, 42],\n   'heights': [165, 180, 176, 184]\n}\n\ndf = pd.DataFrame(data, index=['James', 'Bob', 'Amy', 'Dave'])\nprint(df.loc[\"Bob\"])",
   "metadata": {
    "cell_id": "7f1aefaa91ea4710985120b30ddd3b16",
    "tags": [],
    "deepnote_cell_type": "code",
    "deepnote_cell_height": 210
   },
   "outputs": [],
   "execution_count": null
  },
  {
   "cell_type": "markdown",
   "source": "This will output the row that corresponds to the index \"Bob\".",
   "metadata": {
    "is_collapsed": false,
    "cell_id": "9811f9e98f914fa8b4b6cc6f8d8c4089",
    "tags": [],
    "formattedRanges": [],
    "deepnote_cell_type": "text-cell-p"
   }
  },
  {
   "cell_type": "markdown",
   "source": "Note, that loc uses square brackets to specify the index.",
   "metadata": {
    "is_collapsed": false,
    "cell_id": "c785f244-fe27-4882-b20d-388ed872901b",
    "tags": [],
    "formattedRanges": [],
    "deepnote_cell_type": "text-cell-p"
   }
  },
  {
   "cell_type": "markdown",
   "source": "### Indexing",
   "metadata": {
    "is_collapsed": false,
    "cell_id": "8ca182a5d7794bc7a192800341e978e7",
    "tags": [],
    "formattedRanges": [],
    "deepnote_cell_type": "text-cell-h3"
   }
  },
  {
   "cell_type": "markdown",
   "source": "We can select a single column by specifying its name in square brackets:",
   "metadata": {
    "is_collapsed": false,
    "cell_id": "f4a4cab039ae473a9caf35bf5e2b367c",
    "tags": [],
    "formattedRanges": [],
    "deepnote_cell_type": "text-cell-p"
   }
  },
  {
   "cell_type": "code",
   "source": "import pandas as pd\n\ndata = {\n   'ages': [14, 18, 24, 42],\n   'heights': [165, 180, 176, 184]\n}\n\ndf = pd.DataFrame(data, index=['James', 'Bob', 'Amy', 'Dave'])\n\nprint(df[\"ages\"])",
   "metadata": {
    "cell_id": "d3213f19fe3a48758d63964bf6cb4f8e",
    "tags": [],
    "deepnote_cell_type": "code",
    "deepnote_cell_height": 228
   },
   "outputs": [],
   "execution_count": null
  },
  {
   "cell_type": "markdown",
   "source": "The result is a Series object.",
   "metadata": {
    "is_collapsed": false,
    "cell_id": "3eb97c555ab2426a88d30a6fc70cda63",
    "tags": [],
    "formattedRanges": [],
    "deepnote_cell_type": "text-cell-p"
   }
  },
  {
   "cell_type": "markdown",
   "source": "If we want to select multiple columns, we can specify a list of column names:",
   "metadata": {
    "is_collapsed": false,
    "cell_id": "a0a6aaa1-9944-4eee-8d1a-3feaae3216d2",
    "tags": [],
    "formattedRanges": [],
    "deepnote_cell_type": "text-cell-p"
   }
  },
  {
   "cell_type": "code",
   "source": "import pandas as pd\n\ndata = {\n   'ages': [14, 18, 24, 42],\n   'heights': [165, 180, 176, 184]\n}\n\ndf = pd.DataFrame(data, index=['James', 'Bob', 'Amy', 'Dave'])\n\nprint(df[[\"ages\", \"heights\"]])",
   "metadata": {
    "cell_id": "af4b88e080b645f68e98b44debdbd6b9",
    "tags": [],
    "deepnote_cell_type": "code",
    "deepnote_cell_height": 228
   },
   "outputs": [],
   "execution_count": null
  },
  {
   "cell_type": "markdown",
   "source": "This time, the result is a DataFrame, as it includes multiple columns.\r\nThis is useful, when we need to select only a part of the columns from the dataset.",
   "metadata": {
    "is_collapsed": false,
    "cell_id": "b1d0ca7a9be14776add909493d253cf8",
    "tags": [],
    "formattedRanges": [],
    "deepnote_cell_type": "text-cell-p"
   }
  },
  {
   "cell_type": "markdown",
   "source": "### Slicing",
   "metadata": {
    "is_collapsed": false,
    "cell_id": "cd4c5e29b54242cf83cf159da6fdcaa0",
    "tags": [],
    "formattedRanges": [],
    "deepnote_cell_type": "text-cell-h3"
   }
  },
  {
   "cell_type": "markdown",
   "source": "Pandas uses the iloc function to select data based on its numeric index.\r\nIt works the same way indexing lists does in Python.",
   "metadata": {
    "is_collapsed": false,
    "cell_id": "a83b49e3b97e46d3bfc5e170bd5ebe67",
    "tags": [],
    "formattedRanges": [],
    "deepnote_cell_type": "text-cell-p"
   }
  },
  {
   "cell_type": "markdown",
   "source": "For example:",
   "metadata": {
    "is_collapsed": false,
    "cell_id": "a2795d0d-06b6-4d0c-b3e9-e64b68c519e2",
    "tags": [],
    "formattedRanges": [
     {
      "type": "marks",
      "fromCodePoint": 0,
      "toCodePoint": 12,
      "marks": {
       "bold": true
      }
     }
    ],
    "deepnote_cell_type": "text-cell-p"
   }
  },
  {
   "cell_type": "code",
   "source": "import pandas as pd\n\ndata = {\n   'ages': [14, 18, 24, 42],\n   'heights': [165, 180, 176, 184]\n}\n\ndf = pd.DataFrame(data, index=['James', 'Bob', 'Amy', 'Dave'])\n\n# third row\nprint(df.iloc[2])\n\n#first 3 rows\nprint(df.iloc[:3])\n\n# rows 2 to 3\nprint(df.iloc[1:3])",
   "metadata": {
    "cell_id": "990ef3977f9c45098383a5d00c8e016b",
    "tags": [],
    "deepnote_cell_type": "code",
    "deepnote_cell_height": 354
   },
   "outputs": [],
   "execution_count": null
  },
  {
   "cell_type": "markdown",
   "source": "iloc follows the same rules as slicing does with Python lists.",
   "metadata": {
    "is_collapsed": false,
    "cell_id": "257e5af95eb8408c9e80d0dd9b059068",
    "tags": [],
    "formattedRanges": [],
    "deepnote_cell_type": "text-cell-p"
   }
  },
  {
   "cell_type": "markdown",
   "source": "### Conditions",
   "metadata": {
    "is_collapsed": false,
    "cell_id": "0a456e76dbb44bbb83c8bad5cf3571b0",
    "tags": [],
    "formattedRanges": [],
    "deepnote_cell_type": "text-cell-h3"
   }
  },
  {
   "cell_type": "markdown",
   "source": "We can also select the data based on a condition.\r\nFor example, let's select all rows where age is greater than 18 and height is greater than 180:",
   "metadata": {
    "is_collapsed": false,
    "cell_id": "5a8c45780d03438590442a79f7131eb1",
    "tags": [],
    "formattedRanges": [],
    "deepnote_cell_type": "text-cell-p"
   }
  },
  {
   "cell_type": "code",
   "source": "import pandas as pd\n\ndata = {\n   'ages': [14, 18, 24, 42],\n   'heights': [165, 180, 176, 184]\n}\n\ndf = pd.DataFrame(data, index=['James', 'Bob', 'Amy', 'Dave'])\n\nprint(df[(df['ages']>18) & (df['heights']>180)])",
   "metadata": {
    "cell_id": "2ec343a54f604dc384b59f2b7e528787",
    "tags": [],
    "deepnote_cell_type": "code",
    "deepnote_cell_height": 228
   },
   "outputs": [],
   "execution_count": null
  },
  {
   "cell_type": "markdown",
   "source": "Similarly, the or | operator can be used to combine conditions.",
   "metadata": {
    "is_collapsed": false,
    "cell_id": "171500cf0e5341e1b77fc3c1297750c8",
    "tags": [],
    "formattedRanges": [],
    "deepnote_cell_type": "text-cell-p"
   }
  },
  {
   "cell_type": "markdown",
   "source": "### Reading Data",
   "metadata": {
    "is_collapsed": false,
    "cell_id": "e4b8d041beef4bca918458203d03af6e",
    "tags": [],
    "formattedRanges": [],
    "deepnote_cell_type": "text-cell-h3"
   }
  },
  {
   "cell_type": "markdown",
   "source": "It is quite common for data to come in a file format. One of the most popular formats is the CSV (comma-separated values).\r\nPandas supports reading data from a CSV file directly into a DataFrame.",
   "metadata": {
    "is_collapsed": false,
    "cell_id": "d956af55c7f1452385ee5e161c49a556",
    "tags": [],
    "formattedRanges": [],
    "deepnote_cell_type": "text-cell-p"
   }
  },
  {
   "cell_type": "markdown",
   "source": "For our examples, we will use a CSV file that contains the COVID-19 infection data in California for the year 2020, called 'ca-covid.csv'.",
   "metadata": {
    "is_collapsed": false,
    "cell_id": "3c1c9592-4fd9-489e-b824-8233dfc1ed51",
    "tags": [],
    "formattedRanges": [],
    "deepnote_cell_type": "text-cell-p"
   }
  },
  {
   "cell_type": "markdown",
   "source": "The read_csv() function reads the data of a CSV file into a DataFrame:\r\n",
   "metadata": {
    "is_collapsed": false,
    "cell_id": "485c10dc-6c0a-4a76-bcf6-2533a0abf5ec",
    "tags": [],
    "formattedRanges": [],
    "deepnote_cell_type": "text-cell-p"
   }
  },
  {
   "cell_type": "code",
   "source": "df = pd.read_csv(\"ca-covid.csv\")",
   "metadata": {
    "cell_id": "238cf9b9f06b45f0b1d16ce0cdc4101e",
    "tags": [],
    "deepnote_cell_type": "code",
    "deepnote_cell_height": 61
   },
   "outputs": [],
   "execution_count": null
  },
  {
   "cell_type": "markdown",
   "source": "We need to provide the file path to the read_csv() function.\r\nPandas also supports reading from JSON files, as well as SQL databases.",
   "metadata": {
    "is_collapsed": false,
    "cell_id": "f6807afebdfe4b3fa384de5cfd75e34e",
    "tags": [],
    "formattedRanges": [],
    "deepnote_cell_type": "text-cell-p"
   }
  },
  {
   "cell_type": "markdown",
   "source": "Once we have the data in a DataFrame, we can start exploring it.\r\nWe can get the first rows of the data using the head() function of the DataFrame:",
   "metadata": {
    "is_collapsed": false,
    "cell_id": "d27b229e-92c0-473c-ab5e-2dec9bf8cd6e",
    "tags": [],
    "formattedRanges": [],
    "deepnote_cell_type": "text-cell-p"
   }
  },
  {
   "cell_type": "code",
   "source": "import pandas as pd\n\ndf = pd.read_csv(\"https://www.sololearn.com/uploads/ca-covid.csv\")\n\nprint(df.head())",
   "metadata": {
    "cell_id": "860b3de2443c40d2ba8c6a2d5b7f663a",
    "tags": [],
    "deepnote_cell_type": "code",
    "deepnote_cell_height": 138
   },
   "outputs": [],
   "execution_count": null
  },
  {
   "cell_type": "markdown",
   "source": "By default it returns the first 5 rows. You can instruct it to return the number of rows you would like as an argument (for example, df.head(10) will return the first 10 rows). We can see that our DataFrame contains the date, state, number of cases and deaths for that date.",
   "metadata": {
    "is_collapsed": false,
    "cell_id": "95ef526dbf234620bdf2b3c1bcd4ca82",
    "tags": [],
    "formattedRanges": [],
    "deepnote_cell_type": "text-cell-p"
   }
  },
  {
   "cell_type": "markdown",
   "source": "\r\nSimilarly, you can get the last rows using the tail() function.",
   "metadata": {
    "is_collapsed": false,
    "cell_id": "343330fc-4a43-4876-98d9-e5be18abf308",
    "tags": [],
    "formattedRanges": [
     {
      "type": "marks",
      "fromCodePoint": 49,
      "toCodePoint": 56,
      "marks": {
       "bold": true
      }
     }
    ],
    "deepnote_cell_type": "text-cell-p"
   }
  },
  {
   "cell_type": "markdown",
   "source": "The info() function is used to get essential information about your dataset, such as number of rows, columns, data types, etc:",
   "metadata": {
    "is_collapsed": false,
    "cell_id": "16dbad13-21db-4274-b2a9-b2eee83f194d",
    "tags": [],
    "formattedRanges": [
     {
      "type": "marks",
      "fromCodePoint": 3,
      "toCodePoint": 10,
      "marks": {
       "bold": true
      }
     }
    ],
    "deepnote_cell_type": "text-cell-p"
   }
  },
  {
   "cell_type": "code",
   "source": "import pandas as pd\n\ndf = pd.read_csv(\"https://www.sololearn.com/uploads/ca-covid.csv\")\n\ndf.info()",
   "metadata": {
    "cell_id": "9573aab5a39a4e97a2df17cd9519103e",
    "tags": [],
    "deepnote_cell_type": "code",
    "deepnote_cell_height": 138
   },
   "outputs": [],
   "execution_count": null
  },
  {
   "cell_type": "markdown",
   "source": "Run the code to see the result!",
   "metadata": {
    "is_collapsed": false,
    "cell_id": "feb197f761a14f83953c90d9febf5305",
    "tags": [],
    "formattedRanges": [],
    "deepnote_cell_type": "text-cell-p"
   }
  },
  {
   "cell_type": "markdown",
   "source": "From the result, we can see that our dataset contains 342 rows and 4 columns: date, state, cases, deaths.",
   "metadata": {
    "is_collapsed": false,
    "cell_id": "bc58daf1-f694-4abe-b87f-c011f69d7370",
    "tags": [],
    "formattedRanges": [],
    "deepnote_cell_type": "text-cell-p"
   }
  },
  {
   "cell_type": "markdown",
   "source": "We also see that Pandas has added an auto generated index.\r\nWe can set our own index column by using the set_index() function:\r",
   "metadata": {
    "is_collapsed": false,
    "cell_id": "503dc2cb-2d46-4afc-a9b2-d5cc1721c4ef",
    "tags": [],
    "formattedRanges": [],
    "deepnote_cell_type": "text-cell-p"
   }
  },
  {
   "cell_type": "code",
   "source": "import pandas as pd\n\ndf = pd.read_csv(\"https://www.sololearn.com/uploads/ca-covid.csv\")\ndf.set_index(\"date\", inplace=True)\n\nprint(df.head())",
   "metadata": {
    "cell_id": "3b541462977547d0913a97d82fca6221",
    "tags": [],
    "deepnote_cell_type": "code",
    "deepnote_cell_height": 156
   },
   "outputs": [],
   "execution_count": null
  },
  {
   "cell_type": "markdown",
   "source": "The date column is a good choice for our index, as there is one row for each date.\r\nThe inplace=True argument specifies that the change will be applied to our DataFrame, without the need to assign it to a new DataFrame variable.",
   "metadata": {
    "is_collapsed": false,
    "cell_id": "223f285947f9490ab4f093d0237661e3",
    "tags": [],
    "formattedRanges": [
     {
      "type": "marks",
      "fromCodePoint": 4,
      "toCodePoint": 8,
      "marks": {
       "bold": true
      }
     },
     {
      "type": "marks",
      "fromCodePoint": 88,
      "toCodePoint": 100,
      "marks": {
       "bold": true
      }
     }
    ],
    "deepnote_cell_type": "text-cell-p"
   }
  },
  {
   "cell_type": "markdown",
   "source": "### Dropping a Column",
   "metadata": {
    "is_collapsed": false,
    "cell_id": "adaebc97a540452299fba02f81e5655f",
    "tags": [],
    "formattedRanges": [],
    "deepnote_cell_type": "text-cell-h3"
   }
  },
  {
   "cell_type": "markdown",
   "source": "Since our data is only for the state of California, we can remove that column from our DataFrame, as it contains the same value for all rows:",
   "metadata": {
    "is_collapsed": false,
    "cell_id": "1157efd4e1c946a4a9d10f8e11f29974",
    "tags": [],
    "formattedRanges": [],
    "deepnote_cell_type": "text-cell-p"
   }
  },
  {
   "cell_type": "code",
   "source": "import pandas as pd\n\ndf = pd.read_csv(\"https://www.sololearn.com/uploads/ca-covid.csv\")\ndf.set_index('date', inplace=True)\ndf.drop('state', axis=1, inplace=True)\n\ndf.info()",
   "metadata": {
    "cell_id": "a51029aef3ad457ea1fac8d4af53c35e",
    "tags": [],
    "deepnote_cell_type": "code",
    "deepnote_cell_height": 174
   },
   "outputs": [],
   "execution_count": null
  },
  {
   "cell_type": "markdown",
   "source": "drop() deletes rows and columns.\r\naxis=1 specifies that we want to drop a column.\r\naxis=0 will drop a row.\r\nNow our dataset is much cleaner: we have a date index, and casesdeaths columns.",
   "metadata": {
    "is_collapsed": false,
    "cell_id": "da0a1943db8c4dcf8d151d5955c4258a",
    "tags": [],
    "formattedRanges": [
     {
      "type": "marks",
      "fromCodePoint": 0,
      "toCodePoint": 6,
      "marks": {
       "bold": true
      }
     },
     {
      "type": "marks",
      "fromCodePoint": 34,
      "toCodePoint": 40,
      "marks": {
       "bold": true
      }
     },
     {
      "type": "marks",
      "fromCodePoint": 83,
      "toCodePoint": 89,
      "marks": {
       "bold": true
      }
     },
     {
      "type": "marks",
      "fromCodePoint": 151,
      "toCodePoint": 155,
      "marks": {
       "bold": true
      }
     },
     {
      "type": "marks",
      "fromCodePoint": 167,
      "toCodePoint": 178,
      "marks": {
       "bold": true
      }
     }
    ],
    "deepnote_cell_type": "text-cell-p"
   }
  },
  {
   "cell_type": "markdown",
   "source": "### Creating Columns",
   "metadata": {
    "is_collapsed": false,
    "cell_id": "9dc6f9ad45814b2ca08ffea624333f6a",
    "tags": [],
    "formattedRanges": [],
    "deepnote_cell_type": "text-cell-h3"
   }
  },
  {
   "cell_type": "markdown",
   "source": "Pandas allows us to create our own columns.\r\nFor example, we can add a month column based on the date column:",
   "metadata": {
    "is_collapsed": false,
    "cell_id": "672e00be06c149f8962c4bd19d1fbaeb",
    "tags": [],
    "formattedRanges": [],
    "deepnote_cell_type": "text-cell-p"
   }
  },
  {
   "cell_type": "code",
   "source": "import pandas as pd\n\ndf = pd.read_csv(\"https://www.sololearn.com/uploads/ca-covid.csv\")\n\ndf.drop('state', axis=1, inplace=True)\n\ndf['month'] = pd.to_datetime(df['date'], format=\"%d.%m.%y\").dt.month_name()\n\ndf.set_index('date', inplace=True)\n\nprint(df.head())",
   "metadata": {
    "cell_id": "5c1bbf79cc4a4d7fbf5694cc0486a38c",
    "tags": [],
    "deepnote_cell_type": "code",
    "deepnote_cell_height": 246
   },
   "outputs": [],
   "execution_count": null
  },
  {
   "cell_type": "markdown",
   "source": "We do this by converting the date column to datetime and extracting the month name from it, assigning the value to our new month column.",
   "metadata": {
    "is_collapsed": false,
    "cell_id": "735102cbbb6246d1a1a4591021c1c43f",
    "tags": [],
    "formattedRanges": [
     {
      "type": "marks",
      "fromCodePoint": 29,
      "toCodePoint": 33,
      "marks": {
       "bold": true
      }
     },
     {
      "type": "marks",
      "fromCodePoint": 123,
      "toCodePoint": 128,
      "marks": {
       "bold": true
      }
     }
    ],
    "deepnote_cell_type": "text-cell-p"
   }
  },
  {
   "cell_type": "markdown",
   "source": "### Summary Statistics",
   "metadata": {
    "is_collapsed": false,
    "cell_id": "89423de82efc4744bad7a956656181bd",
    "tags": [],
    "formattedRanges": [],
    "deepnote_cell_type": "text-cell-h3"
   }
  },
  {
   "cell_type": "markdown",
   "source": "Now that our dataset is clean and set up, we are ready to look into some stats!\r\nThe describe() function returns the summary statistics for all the numeric columns:",
   "metadata": {
    "is_collapsed": false,
    "cell_id": "60ac08c697114a18add06cb840bec703",
    "tags": [],
    "formattedRanges": [
     {
      "type": "marks",
      "fromCodePoint": 85,
      "toCodePoint": 95,
      "marks": {
       "bold": true
      }
     }
    ],
    "deepnote_cell_type": "text-cell-p"
   }
  },
  {
   "cell_type": "code",
   "source": "import pandas as pd\n\ndf = pd.read_csv(\"https://www.sololearn.com/uploads/ca-covid.csv\")\n\ndf.drop('state', axis=1, inplace=True)\ndf['month'] = pd.to_datetime(df['date'], format=\"%d.%m.%y\").dt.month_name()\ndf.set_index('date', inplace=True)\n\nprint(df.describe())",
   "metadata": {
    "cell_id": "f589612df8154d9cbca65437cefccf30",
    "tags": [],
    "deepnote_cell_type": "code",
    "deepnote_cell_height": 210
   },
   "outputs": [],
   "execution_count": null
  },
  {
   "cell_type": "markdown",
   "source": "This function will show main statistics for the numeric columns, such as std, mean, min, max values, etc.",
   "metadata": {
    "is_collapsed": false,
    "cell_id": "46dd5f0bc21f4ba58a298179998c66ee",
    "tags": [],
    "formattedRanges": [
     {
      "type": "marks",
      "fromCodePoint": 73,
      "toCodePoint": 92,
      "marks": {
       "bold": true
      }
     }
    ],
    "deepnote_cell_type": "text-cell-p"
   }
  },
  {
   "cell_type": "markdown",
   "source": "### Grouping",
   "metadata": {
    "is_collapsed": false,
    "cell_id": "97ae86ca5f7c4e259a65d21240b9c6f9",
    "tags": [],
    "formattedRanges": [],
    "deepnote_cell_type": "text-cell-h3"
   }
  },
  {
   "cell_type": "markdown",
   "source": "Since we have a month column, we can see how many values each month has, by using the value_counts() functions:",
   "metadata": {
    "is_collapsed": false,
    "cell_id": "4c5a1b2ba4b64cd38b63ab29721c1ef9",
    "tags": [],
    "formattedRanges": [],
    "deepnote_cell_type": "text-cell-p"
   }
  },
  {
   "cell_type": "code",
   "source": "import pandas as pd\n\ndf = pd.read_csv(\"https://www.sololearn.com/uploads/ca-covid.csv\")\n\ndf.drop('state', axis=1, inplace=True)\ndf['month'] = pd.to_datetime(df['date'], format=\"%d.%m.%y\").dt.month_name()\ndf.set_index('date', inplace=True)\n\nprint(df['month'].value_counts())",
   "metadata": {
    "cell_id": "295a34f4f7844f7da4499208b0239e90",
    "tags": [],
    "deepnote_cell_type": "code",
    "deepnote_cell_height": 210
   },
   "outputs": [],
   "execution_count": null
  },
  {
   "cell_type": "markdown",
   "source": "We can see that, for example, January has only 7 records, while the other months have data for all days.",
   "metadata": {
    "is_collapsed": false,
    "cell_id": "4efc7a26010d46c88efa3038f8d8229b",
    "tags": [],
    "formattedRanges": [
     {
      "type": "marks",
      "fromCodePoint": 30,
      "toCodePoint": 38,
      "marks": {
       "bold": true
      }
     }
    ],
    "deepnote_cell_type": "text-cell-p"
   }
  },
  {
   "cell_type": "markdown",
   "source": "value_counts() returns how many times a value appears in the dataset, also called the frequency of the values.",
   "metadata": {
    "is_collapsed": false,
    "cell_id": "8e19f62c-82f9-4af5-8307-f5ea6f7e94d2",
    "tags": [],
    "formattedRanges": [
     {
      "type": "marks",
      "fromCodePoint": 0,
      "toCodePoint": 14,
      "marks": {
       "bold": true
      }
     },
     {
      "type": "marks",
      "fromCodePoint": 86,
      "toCodePoint": 95,
      "marks": {
       "bold": true
      }
     }
    ],
    "deepnote_cell_type": "text-cell-p"
   }
  },
  {
   "cell_type": "markdown",
   "source": "Now we can calculate data insights!\r\nFor example, let's determine the number of total infections in each month.\r\nTo do this, we need to group our data by the month column and then calculate the sum of the cases column for each month:",
   "metadata": {
    "is_collapsed": false,
    "cell_id": "50f44d2a-a120-49ac-8c0c-9424e125adbd",
    "tags": [],
    "formattedRanges": [],
    "deepnote_cell_type": "text-cell-p"
   }
  },
  {
   "cell_type": "code",
   "source": "import pandas as pd\n\ndf = pd.read_csv(\"https://www.sololearn.com/uploads/ca-covid.csv\")\n\ndf.drop('state', axis=1, inplace=True)\ndf['month'] = pd.to_datetime(df['date'], format=\"%d.%m.%y\").dt.month_name()\ndf.set_index('date', inplace=True)\n\nprint(df.groupby('month')['cases'].sum())",
   "metadata": {
    "cell_id": "c6e639ebcf154b46964d406209046c89",
    "tags": [],
    "deepnote_cell_type": "code",
    "deepnote_cell_height": 210
   },
   "outputs": [],
   "execution_count": null
  },
  {
   "cell_type": "markdown",
   "source": "The groupby() function is used to group our dataset by the given column.",
   "metadata": {
    "is_collapsed": false,
    "cell_id": "c1ac2084a41e4ffdb4ae5e4482983f9e",
    "tags": [],
    "formattedRanges": [],
    "deepnote_cell_type": "text-cell-p"
   }
  },
  {
   "cell_type": "markdown",
   "source": "We can also calculate the number of total cases in the entire year:\r",
   "metadata": {
    "is_collapsed": false,
    "cell_id": "e0f2eeda-b55f-438f-a09d-c1397d8964c5",
    "tags": [],
    "formattedRanges": [],
    "deepnote_cell_type": "text-cell-p"
   }
  },
  {
   "cell_type": "code",
   "source": "import pandas as pd\n\ndf = pd.read_csv(\"https://www.sololearn.com/uploads/ca-covid.csv\")\n\ndf.drop('state', axis=1, inplace=True)\ndf['month'] = pd.to_datetime(df['date'], format=\"%d.%m.%y\").dt.month_name()\ndf.set_index('date', inplace=True)\n\nprint(df['cases'].sum())",
   "metadata": {
    "cell_id": "579338ad34b942f2b8c84981075b7ed5",
    "tags": [],
    "deepnote_cell_type": "code",
    "deepnote_cell_height": 210
   },
   "outputs": [],
   "execution_count": null
  },
  {
   "cell_type": "markdown",
   "source": "We can see that California had 2,307,769 infection cases in 2020.\r\nSimilarly, we can use min(), max(), mean(), etc. to find the corresponding values for each group.",
   "metadata": {
    "is_collapsed": false,
    "cell_id": "7508fc3c199440199e7ba5939b9cf39f",
    "tags": [],
    "formattedRanges": [
     {
      "type": "marks",
      "fromCodePoint": 31,
      "toCodePoint": 40,
      "marks": {
       "bold": true
      }
     },
     {
      "type": "marks",
      "fromCodePoint": 89,
      "toCodePoint": 109,
      "marks": {
       "bold": true
      }
     }
    ],
    "deepnote_cell_type": "text-cell-p"
   }
  },
  {
   "cell_type": "code",
   "source": "",
   "metadata": {
    "cell_id": "45037bab7a7d47aca49d83c4f4da14a6",
    "tags": [],
    "deepnote_cell_type": "code"
   },
   "outputs": [],
   "execution_count": null
  },
  {
   "cell_type": "code",
   "source": "# What is the output of this code?\n\nimport pandas as pd\ndata = {\n    'a': [1, 2, 3],\n    'b': [5, 8, 4]\n}\ndf = pd.DataFrame(data)\ndf['c'] = df['a']+df['b']\n",
   "metadata": {
    "tags": [],
    "cell_id": "bb4a0502-494f-46b8-a625-5ad6ac7b1d22",
    "deepnote_cell_type": "code",
    "deepnote_cell_height": 223
   },
   "execution_count": null,
   "outputs": []
  },
  {
   "cell_type": "markdown",
   "source": "<a style='text-decoration:none;line-height:16px;display:flex;color:#5B5B62;padding:10px;justify-content:end;' href='https://deepnote.com?utm_source=created-in-deepnote-cell&projectId=cc67d05c-cf14-4b9c-9cf4-5fbefe179652' target=\"_blank\">\n<img alt='Created in deepnote.com' style='display:inline;max-height:16px;margin:0px;margin-right:7.5px;' src='data:image/svg+xml;base64,PD94bWwgdmVyc2lvbj0iMS4wIiBlbmNvZGluZz0iVVRGLTgiPz4KPHN2ZyB3aWR0aD0iODBweCIgaGVpZ2h0PSI4MHB4IiB2aWV3Qm94PSIwIDAgODAgODAiIHZlcnNpb249IjEuMSIgeG1sbnM9Imh0dHA6Ly93d3cudzMub3JnLzIwMDAvc3ZnIiB4bWxuczp4bGluaz0iaHR0cDovL3d3dy53My5vcmcvMTk5OS94bGluayI+CiAgICA8IS0tIEdlbmVyYXRvcjogU2tldGNoIDU0LjEgKDc2NDkwKSAtIGh0dHBzOi8vc2tldGNoYXBwLmNvbSAtLT4KICAgIDx0aXRsZT5Hcm91cCAzPC90aXRsZT4KICAgIDxkZXNjPkNyZWF0ZWQgd2l0aCBTa2V0Y2guPC9kZXNjPgogICAgPGcgaWQ9IkxhbmRpbmciIHN0cm9rZT0ibm9uZSIgc3Ryb2tlLXdpZHRoPSIxIiBmaWxsPSJub25lIiBmaWxsLXJ1bGU9ImV2ZW5vZGQiPgogICAgICAgIDxnIGlkPSJBcnRib2FyZCIgdHJhbnNmb3JtPSJ0cmFuc2xhdGUoLTEyMzUuMDAwMDAwLCAtNzkuMDAwMDAwKSI+CiAgICAgICAgICAgIDxnIGlkPSJHcm91cC0zIiB0cmFuc2Zvcm09InRyYW5zbGF0ZSgxMjM1LjAwMDAwMCwgNzkuMDAwMDAwKSI+CiAgICAgICAgICAgICAgICA8cG9seWdvbiBpZD0iUGF0aC0yMCIgZmlsbD0iIzAyNjVCNCIgcG9pbnRzPSIyLjM3NjIzNzYyIDgwIDM4LjA0NzY2NjcgODAgNTcuODIxNzgyMiA3My44MDU3NTkyIDU3LjgyMTc4MjIgMzIuNzU5MjczOSAzOS4xNDAyMjc4IDMxLjY4MzE2ODMiPjwvcG9seWdvbj4KICAgICAgICAgICAgICAgIDxwYXRoIGQ9Ik0zNS4wMDc3MTgsODAgQzQyLjkwNjIwMDcsNzYuNDU0OTM1OCA0Ny41NjQ5MTY3LDcxLjU0MjI2NzEgNDguOTgzODY2LDY1LjI2MTk5MzkgQzUxLjExMjI4OTksNTUuODQxNTg0MiA0MS42NzcxNzk1LDQ5LjIxMjIyODQgMjUuNjIzOTg0Niw0OS4yMTIyMjg0IEMyNS40ODQ5Mjg5LDQ5LjEyNjg0NDggMjkuODI2MTI5Niw0My4yODM4MjQ4IDM4LjY0NzU4NjksMzEuNjgzMTY4MyBMNzIuODcxMjg3MSwzMi41NTQ0MjUgTDY1LjI4MDk3Myw2Ny42NzYzNDIxIEw1MS4xMTIyODk5LDc3LjM3NjE0NCBMMzUuMDA3NzE4LDgwIFoiIGlkPSJQYXRoLTIyIiBmaWxsPSIjMDAyODY4Ij48L3BhdGg+CiAgICAgICAgICAgICAgICA8cGF0aCBkPSJNMCwzNy43MzA0NDA1IEwyNy4xMTQ1MzcsMC4yNTcxMTE0MzYgQzYyLjM3MTUxMjMsLTEuOTkwNzE3MDEgODAsMTAuNTAwMzkyNyA4MCwzNy43MzA0NDA1IEM4MCw2NC45NjA0ODgyIDY0Ljc3NjUwMzgsNzkuMDUwMzQxNCAzNC4zMjk1MTEzLDgwIEM0Ny4wNTUzNDg5LDc3LjU2NzA4MDggNTMuNDE4MjY3Nyw3MC4zMTM2MTAzIDUzLjQxODI2NzcsNTguMjM5NTg4NSBDNTMuNDE4MjY3Nyw0MC4xMjg1NTU3IDM2LjMwMzk1NDQsMzcuNzMwNDQwNSAyNS4yMjc0MTcsMzcuNzMwNDQwNSBDMTcuODQzMDU4NiwzNy43MzA0NDA1IDkuNDMzOTE5NjYsMzcuNzMwNDQwNSAwLDM3LjczMDQ0MDUgWiIgaWQ9IlBhdGgtMTkiIGZpbGw9IiMzNzkzRUYiPjwvcGF0aD4KICAgICAgICAgICAgPC9nPgogICAgICAgIDwvZz4KICAgIDwvZz4KPC9zdmc+' > </img>\nCreated in <span style='font-weight:600;margin-left:4px;'>Deepnote</span></a>",
   "metadata": {
    "tags": [],
    "created_in_deepnote_cell": true,
    "deepnote_cell_type": "markdown"
   }
  }
 ],
 "nbformat": 4,
 "nbformat_minor": 2,
 "metadata": {
  "orig_nbformat": 2,
  "deepnote": {},
  "deepnote_notebook_id": "ee772c14-622a-41d7-b956-106d3169f835",
  "deepnote_execution_queue": []
 }
}