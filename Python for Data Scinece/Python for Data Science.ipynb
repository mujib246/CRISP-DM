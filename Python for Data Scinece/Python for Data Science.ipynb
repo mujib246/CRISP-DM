{
 "cells": [
  {
   "cell_type": "markdown",
   "source": "### Python for Data Science",
   "metadata": {
    "formattedRanges": [],
    "is_collapsed": false,
    "cell_id": "4b5b1ec5ba9447dfbf5723075e616738",
    "tags": [],
    "deepnote_cell_type": "text-cell-h3"
   }
  },
  {
   "cell_type": "markdown",
   "source": "welcome to my Python for DS, Wi'll learn about the most popular Python libraries used in Data Science: Numpy, Pandas and Matplotlib.",
   "metadata": {
    "formattedRanges": [
     {
      "type": "marks",
      "fromCodePoint": 103,
      "toCodePoint": 116,
      "marks": {
       "bold": true
      }
     },
     {
      "type": "marks",
      "fromCodePoint": 121,
      "toCodePoint": 131,
      "marks": {
       "bold": true
      }
     }
    ],
    "is_collapsed": false,
    "cell_id": "43e2697a9142420bac9031ee964570d7",
    "tags": [],
    "deepnote_cell_type": "text-cell-p"
   }
  },
  {
   "cell_type": "markdown",
   "source": "Python is the #1 programming language for DS and for good reason:",
   "metadata": {
    "formattedRanges": [],
    "is_collapsed": false,
    "cell_id": "32837b4a-b539-4356-b4ba-4fd9602fac36",
    "tags": [],
    "deepnote_cell_type": "text-cell-p"
   }
  },
  {
   "cell_type": "markdown",
   "source": "- Python is easy to learn",
   "metadata": {
    "formattedRanges": [],
    "is_collapsed": false,
    "cell_id": "aef7493b-7399-4d4a-8eb7-555f5cb5b48a",
    "tags": [],
    "deepnote_cell_type": "text-cell-bullet"
   }
  },
  {
   "cell_type": "markdown",
   "source": "- the syntax is easy to read and understand",
   "metadata": {
    "formattedRanges": [],
    "is_collapsed": false,
    "cell_id": "03b6a5b5-c423-46bb-80c0-037bd2a1adcb",
    "tags": [],
    "deepnote_cell_type": "text-cell-bullet"
   }
  },
  {
   "cell_type": "markdown",
   "source": "- there are many usefull libraries to perform computations and other operations",
   "metadata": {
    "formattedRanges": [],
    "is_collapsed": false,
    "cell_id": "0e0e5faf-5c57-4e10-a778-5a71ffdece65",
    "tags": [],
    "deepnote_cell_type": "text-cell-bullet"
   }
  },
  {
   "cell_type": "markdown",
   "source": "Data Science user various tehniques and methods to extract knowledge and insight from data. let's dive into some basic of statistics first. ",
   "metadata": {
    "formattedRanges": [],
    "is_collapsed": false,
    "cell_id": "81cede37ed75401ebcd52c21f7e03b6e",
    "tags": [],
    "deepnote_cell_type": "text-cell-p"
   }
  },
  {
   "cell_type": "markdown",
   "source": "mean: the average of the values",
   "metadata": {
    "formattedRanges": [
     {
      "type": "marks",
      "fromCodePoint": 0,
      "toCodePoint": 4,
      "marks": {
       "bold": true
      }
     }
    ],
    "is_collapsed": false,
    "cell_id": "38ee04f2-0897-4aa0-907b-135a3e08a987",
    "tags": [],
    "deepnote_cell_type": "text-cell-p"
   }
  },
  {
   "cell_type": "markdown",
   "source": "median: the middle value",
   "metadata": {
    "formattedRanges": [
     {
      "type": "marks",
      "fromCodePoint": 0,
      "toCodePoint": 6,
      "marks": {
       "bold": true
      }
     }
    ],
    "is_collapsed": false,
    "cell_id": "c0db65b9-3751-4752-b590-21baec65be25",
    "tags": [],
    "deepnote_cell_type": "text-cell-p"
   }
  },
  {
   "cell_type": "markdown",
   "source": "Standart Deviation: the measure of spread.",
   "metadata": {
    "formattedRanges": [
     {
      "type": "marks",
      "fromCodePoint": 0,
      "toCodePoint": 18,
      "marks": {
       "bold": true
      }
     }
    ],
    "is_collapsed": false,
    "cell_id": "e4d4f2f7-eb52-4efe-b507-313056e81cd6",
    "tags": [],
    "deepnote_cell_type": "text-cell-p"
   }
  },
  {
   "cell_type": "markdown",
   "source": "",
   "metadata": {
    "formattedRanges": [],
    "is_collapsed": false,
    "cell_id": "d72fca27-527a-4d1b-a5c2-b5af4a6bb132",
    "tags": [],
    "deepnote_cell_type": "text-cell-p"
   }
  },
  {
   "cell_type": "markdown",
   "source": "### Numpy",
   "metadata": {
    "formattedRanges": [],
    "is_collapsed": false,
    "cell_id": "b10d022329b84cde8b62f7f20bd3f66b",
    "tags": [],
    "deepnote_cell_type": "text-cell-h3"
   }
  },
  {
   "cell_type": "markdown",
   "source": "NumPy (Numerical Python) is a Python library used to work with numerical data.\nNumPy includes functions and data structures that can perform a wide variety of mathematical operations.",
   "metadata": {
    "formattedRanges": [
     {
      "type": "marks",
      "fromCodePoint": 0,
      "toCodePoint": 24,
      "marks": {
       "bold": true
      }
     }
    ],
    "is_collapsed": false,
    "cell_id": "efdf5c3336aa4648a2663c722ef58d72",
    "tags": [],
    "deepnote_cell_type": "text-cell-p"
   }
  },
  {
   "cell_type": "markdown",
   "source": "To start using NumPy, we first need to import it:",
   "metadata": {
    "formattedRanges": [],
    "is_collapsed": false,
    "cell_id": "dea1b9a2-5185-4d42-8850-a233d015fc7f",
    "tags": [],
    "deepnote_cell_type": "text-cell-p"
   }
  },
  {
   "cell_type": "code",
   "metadata": {
    "tags": [],
    "cell_id": "2c58e156-9a68-4f88-97fe-5aa4a097351f",
    "deepnote_to_be_reexecuted": false,
    "source_hash": "c2602aa8",
    "execution_start": 1663563088829,
    "execution_millis": 1,
    "deepnote_cell_type": "code",
    "deepnote_cell_height": 76
   },
   "source": "import numpy as np",
   "execution_count": 1,
   "outputs": []
  },
  {
   "cell_type": "markdown",
   "source": "In Python, lists are used to store data.\nNumPy provides an array structure for performing operations with data.\nNumPy arrays are faster and more compact than lists.",
   "metadata": {
    "formattedRanges": [],
    "is_collapsed": false,
    "cell_id": "2c72fc3b8d0b4746ab3fbdb8f7427ed7",
    "tags": [],
    "deepnote_cell_type": "text-cell-p"
   }
  },
  {
   "cell_type": "markdown",
   "source": "A NumPy array can be created using the np.array() function, providing it a list as the argument:",
   "metadata": {
    "formattedRanges": [],
    "is_collapsed": false,
    "cell_id": "48bd816c-7b50-4de5-af7d-694212f99231",
    "tags": [],
    "deepnote_cell_type": "text-cell-p"
   }
  },
  {
   "cell_type": "code",
   "metadata": {
    "cell_id": "5533bce5c053495c82c4a7f47828c79b",
    "tags": [],
    "deepnote_to_be_reexecuted": false,
    "source_hash": "af55dfdd",
    "execution_start": 1663563088833,
    "execution_millis": 2,
    "deepnote_cell_type": "code",
    "deepnote_cell_height": 76
   },
   "source": "x = np.array([1,2,3,4])",
   "execution_count": 2,
   "outputs": []
  },
  {
   "cell_type": "markdown",
   "source": "Now, x is a NumPy array containing 4 values.\nWe can access its elements using their indexes, which start from 0:",
   "metadata": {
    "formattedRanges": [],
    "is_collapsed": false,
    "cell_id": "756abbad256342cdb137fbffa73f519d",
    "tags": [],
    "deepnote_cell_type": "text-cell-p"
   }
  },
  {
   "cell_type": "code",
   "metadata": {
    "cell_id": "8c5132a21dc340159a3057b67771d363",
    "tags": [],
    "deepnote_to_be_reexecuted": false,
    "source_hash": "9d17edcc",
    "execution_start": 1663563088836,
    "execution_millis": 16,
    "deepnote_cell_type": "code",
    "deepnote_cell_height": 106.859375
   },
   "source": "print(x[0])",
   "execution_count": 3,
   "outputs": [
    {
     "name": "stdout",
     "text": "1\n",
     "output_type": "stream"
    }
   ]
  },
  {
   "cell_type": "markdown",
   "source": "NumPy arrays are homogeneous, meaning they can contain only a single data type, while lists can contain multiple different types of data.",
   "metadata": {
    "formattedRanges": [],
    "is_collapsed": false,
    "cell_id": "622e1aea863f47889dac0080d3098448",
    "tags": [],
    "deepnote_cell_type": "text-cell-p"
   }
  },
  {
   "cell_type": "markdown",
   "source": "### Numpy Arrays",
   "metadata": {
    "formattedRanges": [],
    "is_collapsed": false,
    "cell_id": "e8d5a1f4d1884679a5dc70f8f90568dc",
    "tags": [],
    "deepnote_cell_type": "text-cell-h3"
   }
  },
  {
   "cell_type": "markdown",
   "source": "NumPy arrays are often called ndarrays, which stands for \"N-dimensional array\", because they can have multiple dimensions.",
   "metadata": {
    "formattedRanges": [],
    "is_collapsed": false,
    "cell_id": "68ac52d454184597a66dcc29ec2001d4",
    "tags": [],
    "deepnote_cell_type": "text-cell-p"
   }
  },
  {
   "cell_type": "code",
   "metadata": {
    "cell_id": "5c76ac68d07c4229afd7809ae4b3669a",
    "tags": [],
    "deepnote_to_be_reexecuted": false,
    "source_hash": "2c7a2e40",
    "execution_start": 1663563088872,
    "execution_millis": 0,
    "deepnote_cell_type": "code",
    "deepnote_cell_height": 124.859375
   },
   "source": "x = np.array([[1,2,3], [4,5,6], [7,8,9]])\nprint(x[1][2])",
   "execution_count": 4,
   "outputs": [
    {
     "name": "stdout",
     "text": "6\n",
     "output_type": "stream"
    }
   ]
  },
  {
   "cell_type": "markdown",
   "source": "This will create a 2-dimensional array, which has 3 columns and 3 rows, and output the value at the 2nd row and 3rd column.",
   "metadata": {
    "formattedRanges": [],
    "is_collapsed": false,
    "cell_id": "796cd765741a4b5aba5dc732da0ee8e1",
    "tags": [],
    "deepnote_cell_type": "text-cell-p"
   }
  },
  {
   "cell_type": "markdown",
   "source": "Arrays have properties, which can be accessed using a dot.\nndim returns the number of dimensions of the array.\nsize returns the total number of elements of the array.\nshape returns a tuple of integers that indicate the number of elements stored along each dimension of the array.",
   "metadata": {
    "formattedRanges": [],
    "is_collapsed": false,
    "cell_id": "68a42bd0-ade7-4dd9-ac75-f4b91a133d53",
    "tags": [],
    "deepnote_cell_type": "text-cell-p"
   }
  },
  {
   "cell_type": "markdown",
   "source": "For example:",
   "metadata": {
    "formattedRanges": [],
    "is_collapsed": false,
    "cell_id": "eb5dbcf7-3df3-4299-81e9-e3da9677f715",
    "tags": [],
    "deepnote_cell_type": "text-cell-p"
   }
  },
  {
   "cell_type": "code",
   "metadata": {
    "cell_id": "258009dc31c6485391a2affacb77130a",
    "tags": [],
    "deepnote_to_be_reexecuted": false,
    "source_hash": "ae024851",
    "execution_start": 1663563088872,
    "execution_millis": 2,
    "deepnote_cell_type": "code",
    "deepnote_cell_height": 200.59375
   },
   "source": "x = np.array([[1, 2, 3], [4, 5, 6], [7, 8, 9]]) \nprint(x.ndim) # 2\nprint(x.size) # 9\nprint(x.shape) # (3, 3)",
   "execution_count": 5,
   "outputs": [
    {
     "name": "stdout",
     "text": "2\n9\n(3, 3)\n",
     "output_type": "stream"
    }
   ]
  },
  {
   "cell_type": "markdown",
   "source": "So, the array in our example has 2 dimensions, 9 elements and is a 3x3 matrix (3 rows and 3 columns).",
   "metadata": {
    "formattedRanges": [],
    "is_collapsed": false,
    "cell_id": "17d35723ab864218ad1c1e722d70ab22",
    "tags": [],
    "deepnote_cell_type": "text-cell-p"
   }
  },
  {
   "cell_type": "markdown",
   "source": "We can add, remove and sort an array using the np.append(), np.delete() and np.sort() functions.",
   "metadata": {
    "formattedRanges": [
     {
      "type": "marks",
      "fromCodePoint": 47,
      "toCodePoint": 72,
      "marks": {
       "bold": true
      }
     },
     {
      "type": "marks",
      "fromCodePoint": 76,
      "toCodePoint": 85,
      "marks": {
       "bold": true
      }
     }
    ],
    "is_collapsed": false,
    "cell_id": "ea74d95f946c4d078f51da6fb463cc82",
    "tags": [],
    "deepnote_cell_type": "text-cell-p"
   }
  },
  {
   "cell_type": "code",
   "metadata": {
    "cell_id": "ab04dcdcdde8492fb17472a88e08fb88",
    "tags": [],
    "deepnote_to_be_reexecuted": false,
    "source_hash": "b703edb5",
    "execution_start": 1663563088873,
    "execution_millis": 2,
    "deepnote_cell_type": "code",
    "deepnote_cell_height": 250.859375
   },
   "source": "import numpy as np\n\nx = np.array([2, 1, 3])\n\nx = np.append(x, 4)\nx = np.delete(x, 0)\nx = np.sort(x)\n\nprint(x)",
   "execution_count": 6,
   "outputs": [
    {
     "name": "stdout",
     "text": "[1 3 4]\n",
     "output_type": "stream"
    }
   ]
  },
  {
   "cell_type": "markdown",
   "source": "np.arange() allows you to create an array that contains a range of evenly spaced intervals (similar to a Python range):",
   "metadata": {
    "formattedRanges": [],
    "is_collapsed": false,
    "cell_id": "e76932e60c59435db738aee7cfbb1d22",
    "tags": [],
    "deepnote_cell_type": "text-cell-p"
   }
  },
  {
   "cell_type": "code",
   "metadata": {
    "cell_id": "9be9c8efbe9b44eebfa9c7d982bc3f66",
    "tags": [],
    "deepnote_to_be_reexecuted": false,
    "source_hash": "340305ce",
    "execution_start": 1663563088876,
    "execution_millis": 0,
    "deepnote_cell_type": "code",
    "deepnote_cell_height": 160.859375
   },
   "source": "import numpy as np\n\nx = np.arange(2, 10, 3)\nprint(x)",
   "execution_count": 7,
   "outputs": [
    {
     "name": "stdout",
     "text": "[2 5 8]\n",
     "output_type": "stream"
    }
   ]
  },
  {
   "cell_type": "code",
   "metadata": {
    "cell_id": "ba7c3d9ff3484782b4560075b5ebf76f",
    "tags": [],
    "deepnote_to_be_reexecuted": false,
    "source_hash": "da1d54f8",
    "execution_start": 1663563088895,
    "execution_millis": 5,
    "deepnote_cell_type": "code",
    "deepnote_cell_height": 248.046875
   },
   "source": "x = np.arange(2, 8, 2)\nx = np.append(x, x.size)\nx = np.sort(x)\nprint(x[1])\n3\n",
   "execution_count": 8,
   "outputs": [
    {
     "name": "stdout",
     "text": "3\n",
     "output_type": "stream"
    },
    {
     "output_type": "execute_result",
     "execution_count": 8,
     "data": {
      "text/plain": "3"
     },
     "metadata": {}
    }
   ]
  },
  {
   "cell_type": "markdown",
   "source": "### Reshape",
   "metadata": {
    "formattedRanges": [],
    "is_collapsed": false,
    "cell_id": "bf48c8f853e1424ab8e387271d338288",
    "tags": [],
    "deepnote_cell_type": "text-cell-h3"
   }
  },
  {
   "cell_type": "markdown",
   "source": "Recall that shape refers to the number of rows and columns in the array.",
   "metadata": {
    "formattedRanges": [],
    "is_collapsed": false,
    "cell_id": "ab1f07c11c3443c181ad6a7472c73096",
    "tags": [],
    "deepnote_cell_type": "text-cell-p"
   }
  },
  {
   "cell_type": "markdown",
   "source": "For example, let's consider the following array:",
   "metadata": {
    "formattedRanges": [],
    "is_collapsed": false,
    "cell_id": "9acb2dbe-0118-49bc-8a6a-0e336207d445",
    "tags": [],
    "deepnote_cell_type": "text-cell-p"
   }
  },
  {
   "cell_type": "code",
   "metadata": {
    "cell_id": "c34ab71264fc49d3bbc44eac1802db46",
    "tags": [],
    "deepnote_to_be_reexecuted": false,
    "source_hash": "f3d6e2d0",
    "execution_start": 1663563088896,
    "execution_millis": 4,
    "deepnote_cell_type": "code",
    "deepnote_cell_height": 178.859375
   },
   "source": "import numpy as np\n\nx = np.arange(1, 7)\n \nprint(x)",
   "execution_count": 9,
   "outputs": [
    {
     "name": "stdout",
     "text": "[1 2 3 4 5 6]\n",
     "output_type": "stream"
    }
   ]
  },
  {
   "cell_type": "markdown",
   "source": "This is a 1-dimensional array, containing 6 elements.",
   "metadata": {
    "formattedRanges": [],
    "is_collapsed": false,
    "cell_id": "e361772366c54967b4979843bd09235c",
    "tags": [],
    "deepnote_cell_type": "text-cell-p"
   }
  },
  {
   "cell_type": "markdown",
   "source": "NumPy allows us to change the shape of our arrays using the reshape() function. For example, we can change our 1-dimensional array to an array with 3 rows and 2 columns:",
   "metadata": {
    "formattedRanges": [],
    "is_collapsed": false,
    "cell_id": "29935271-8f81-4899-9288-5ead3a96ffae",
    "tags": [],
    "deepnote_cell_type": "text-cell-p"
   }
  },
  {
   "cell_type": "code",
   "metadata": {
    "cell_id": "9fcf175bfd0b4828a6d4e38cede94cf4",
    "tags": [],
    "deepnote_to_be_reexecuted": false,
    "source_hash": "99268a57",
    "execution_start": 1663563088897,
    "execution_millis": 3,
    "deepnote_cell_type": "code",
    "deepnote_cell_height": 254.59375
   },
   "source": "import numpy as np\n\nx = np.arange(1, 7)\n\nz = x.reshape(3, 2)\n\nprint(z)",
   "execution_count": 10,
   "outputs": [
    {
     "name": "stdout",
     "text": "[[1 2]\n [3 4]\n [5 6]]\n",
     "output_type": "stream"
    }
   ]
  },
  {
   "cell_type": "markdown",
   "source": "When you use the reshape method, the array you want to produce needs to have the same number of elements as the original array.",
   "metadata": {
    "formattedRanges": [],
    "is_collapsed": false,
    "cell_id": "61fbfdf50ce34e5f93020c4b663bdfb8",
    "tags": [],
    "deepnote_cell_type": "text-cell-p"
   }
  },
  {
   "cell_type": "markdown",
   "source": "Reshape can also do the opposite: take a 2-dimensional array and make a 1-dimensional array from it:",
   "metadata": {
    "formattedRanges": [],
    "is_collapsed": false,
    "cell_id": "9c548d763743431bb556eccce0891e1b",
    "tags": [],
    "deepnote_cell_type": "text-cell-p"
   }
  },
  {
   "cell_type": "code",
   "metadata": {
    "cell_id": "84b5356cd51a4f9698049439b32190e6",
    "tags": [],
    "deepnote_to_be_reexecuted": false,
    "source_hash": "5918db8b",
    "execution_start": 1663563088901,
    "execution_millis": 56,
    "deepnote_cell_type": "code",
    "deepnote_cell_height": 214.859375
   },
   "source": "import numpy as np\n\nx = np.array([[1, 2], [3, 4], [5, 6]])\n\nz = x.reshape(6)\n\nprint(z)",
   "execution_count": 11,
   "outputs": [
    {
     "name": "stdout",
     "text": "[1 2 3 4 5 6]\n",
     "output_type": "stream"
    }
   ]
  },
  {
   "cell_type": "markdown",
   "source": "The result is a flat array that contains 6 elements.",
   "metadata": {
    "formattedRanges": [],
    "is_collapsed": false,
    "cell_id": "2b8e4bb50ec243dbba6c6fdb6418d5d0",
    "tags": [],
    "deepnote_cell_type": "text-cell-p"
   }
  },
  {
   "cell_type": "markdown",
   "source": "The same result can be achieved using the flatten() function.",
   "metadata": {
    "formattedRanges": [],
    "is_collapsed": false,
    "cell_id": "9fea364d-8c8d-48c0-b8ae-52aeb6b433e3",
    "tags": [],
    "deepnote_cell_type": "text-cell-p"
   }
  },
  {
   "cell_type": "code",
   "metadata": {
    "cell_id": "8ee580b36af548f5b159009e4dc781b2",
    "tags": [],
    "deepnote_to_be_reexecuted": false,
    "source_hash": "f2872ed7",
    "execution_start": 1663563088976,
    "execution_millis": 5,
    "deepnote_cell_type": "code",
    "deepnote_cell_height": 160.859375
   },
   "source": "x = np.arange(1, 8, 3)\nz = x.reshape(3, 1)\nprint(z[1][0])\n",
   "execution_count": 12,
   "outputs": [
    {
     "name": "stdout",
     "text": "4\n",
     "output_type": "stream"
    }
   ]
  },
  {
   "cell_type": "markdown",
   "source": "### Indexing and Slicing",
   "metadata": {
    "formattedRanges": [],
    "is_collapsed": false,
    "cell_id": "345370480c994bfeb3a600fb6b9f1d90",
    "tags": [],
    "deepnote_cell_type": "text-cell-h3"
   }
  },
  {
   "cell_type": "markdown",
   "source": "NumPy arrays can be indexed and sliced the same way that Python lists are.",
   "metadata": {
    "formattedRanges": [],
    "is_collapsed": false,
    "cell_id": "c3ffa3e8dc0349ffba78ea3963b1a2eb",
    "tags": [],
    "deepnote_cell_type": "text-cell-p"
   }
  },
  {
   "cell_type": "markdown",
   "source": "For example:",
   "metadata": {
    "formattedRanges": [],
    "is_collapsed": false,
    "cell_id": "84440b60-a044-4d43-94c0-b405f257b3b3",
    "tags": [],
    "deepnote_cell_type": "text-cell-p"
   }
  },
  {
   "cell_type": "code",
   "metadata": {
    "cell_id": "f16e5429382d493e8bec995a9124b398",
    "tags": [],
    "deepnote_to_be_reexecuted": false,
    "source_hash": "ea014151",
    "execution_start": 1663563088977,
    "execution_millis": 4,
    "deepnote_cell_type": "code",
    "deepnote_cell_height": 292.453125
   },
   "source": "import numpy as np\n\nx = np.arange(1, 10)\n\nprint(x[0:2])\nprint(x[5:])\nprint(x[:2])\nprint(x[-3:])",
   "execution_count": 13,
   "outputs": [
    {
     "name": "stdout",
     "text": "[1 2]\n[6 7 8 9]\n[1 2]\n[7 8 9]\n",
     "output_type": "stream"
    }
   ]
  },
  {
   "cell_type": "markdown",
   "source": "Negative indexes count from the end of the array, so, [-3:] will result in the last 3 elements.",
   "metadata": {
    "formattedRanges": [],
    "is_collapsed": false,
    "cell_id": "61c56d9907e944a2a196eb226cfb5914",
    "tags": [],
    "deepnote_cell_type": "text-cell-p"
   }
  },
  {
   "cell_type": "markdown",
   "source": "### Conditions",
   "metadata": {
    "formattedRanges": [],
    "is_collapsed": false,
    "cell_id": "5f70f5761c874f13a76edc94f7b4672f",
    "tags": [],
    "deepnote_cell_type": "text-cell-h3"
   }
  },
  {
   "cell_type": "markdown",
   "source": "You can provide a condition as the index to select the elements that fulfill the given condition.",
   "metadata": {
    "formattedRanges": [],
    "is_collapsed": false,
    "cell_id": "5b222356b2db40b3a743b5408a8b9cba",
    "tags": [],
    "deepnote_cell_type": "text-cell-p"
   }
  },
  {
   "cell_type": "markdown",
   "source": "For example, let's select the elements that are less than 4:",
   "metadata": {
    "formattedRanges": [],
    "is_collapsed": false,
    "cell_id": "992f3ebe-c8d6-4800-8657-8998f0cb01f1",
    "tags": [],
    "deepnote_cell_type": "text-cell-p"
   }
  },
  {
   "cell_type": "code",
   "metadata": {
    "cell_id": "5abe03f1d61e4b179aba8b4655a65c15",
    "tags": [],
    "deepnote_to_be_reexecuted": false,
    "source_hash": "dfbe7835",
    "execution_start": 1663563088977,
    "execution_millis": 4,
    "deepnote_cell_type": "code",
    "deepnote_cell_height": 178.859375
   },
   "source": "import numpy as np\n\nx = np.arange(1, 10)\n\nprint(x[x<4])",
   "execution_count": 14,
   "outputs": [
    {
     "name": "stdout",
     "text": "[1 2 3]\n",
     "output_type": "stream"
    }
   ]
  },
  {
   "cell_type": "markdown",
   "source": "Conditions can be combined using the & (and) and | (or) operators.\nFor example, let's take the even numbers that are greater than 5:",
   "metadata": {
    "formattedRanges": [],
    "is_collapsed": false,
    "cell_id": "8378597c68dd4128a9bcc5c477a19edd",
    "tags": [],
    "deepnote_cell_type": "text-cell-p"
   }
  },
  {
   "cell_type": "code",
   "metadata": {
    "cell_id": "bcb1a1aec14d481bac5146b893713d69",
    "tags": [],
    "deepnote_to_be_reexecuted": false,
    "source_hash": "d7240457",
    "execution_start": 1663563088983,
    "execution_millis": 4,
    "deepnote_cell_type": "code",
    "deepnote_cell_height": 178.859375
   },
   "source": "import numpy as np\n\nx = np.arange(1, 10)\n\nprint(x[(x>5) & (x%2==0)])",
   "execution_count": 15,
   "outputs": [
    {
     "name": "stdout",
     "text": "[6 8]\n",
     "output_type": "stream"
    }
   ]
  },
  {
   "cell_type": "markdown",
   "source": "The condition can also be assigned to a variable, which will be an array of boolean values showing whether or not the values in the array fulfill the condition:\ny = (x>5) & (x%2==0)",
   "metadata": {
    "formattedRanges": [],
    "is_collapsed": false,
    "cell_id": "185876d6523442f28c4bfa8430243e99",
    "tags": [],
    "deepnote_cell_type": "text-cell-p"
   }
  },
  {
   "cell_type": "markdown",
   "source": "### Operations",
   "metadata": {
    "formattedRanges": [],
    "is_collapsed": false,
    "cell_id": "78c360b7055b439d87f25efc8ce3b575",
    "tags": [],
    "deepnote_cell_type": "text-cell-h3"
   }
  },
  {
   "cell_type": "markdown",
   "source": "It is easy to perform basic mathematical operations with arrays.\nFor example, to find the sum of all elements, we use the sum() function:",
   "metadata": {
    "formattedRanges": [],
    "is_collapsed": false,
    "cell_id": "f53c97b69daa464aa281265ad0ae00c0",
    "tags": [],
    "deepnote_cell_type": "text-cell-p"
   }
  },
  {
   "cell_type": "code",
   "metadata": {
    "cell_id": "82f780d9ebea4d6a8a8dc31dd5d46d0a",
    "tags": [],
    "deepnote_to_be_reexecuted": false,
    "source_hash": "6b4a8830",
    "execution_start": 1663563088986,
    "execution_millis": 2,
    "deepnote_cell_type": "code",
    "deepnote_cell_height": 178.859375
   },
   "source": "import numpy as np\n\nx = np.arange(1, 10)\n\nprint(x.sum())",
   "execution_count": 16,
   "outputs": [
    {
     "name": "stdout",
     "text": "45\n",
     "output_type": "stream"
    }
   ]
  },
  {
   "cell_type": "code",
   "source": "data_mb = np.array([6, 3, 10, 143])\n\ndata_kb = data_mb * 1024\n\nprint(data_kb.max())\n",
   "metadata": {
    "cell_id": "6008a15a7d534b4789b3dada486a9c21",
    "tags": [],
    "deepnote_to_be_reexecuted": false,
    "source_hash": "e788787e",
    "execution_start": 1663563947671,
    "execution_millis": 1,
    "deepnote_cell_type": "code",
    "deepnote_cell_height": 196.859375
   },
   "outputs": [
    {
     "name": "stdout",
     "text": "146432\n",
     "output_type": "stream"
    }
   ],
   "execution_count": 19
  },
  {
   "cell_type": "markdown",
   "source": "Similarly, min() and max() can be used to get the smallest and largest elements.",
   "metadata": {
    "formattedRanges": [],
    "is_collapsed": false,
    "cell_id": "51bc730188e64444a391016c5db24848",
    "tags": [],
    "deepnote_cell_type": "text-cell-p"
   }
  },
  {
   "cell_type": "markdown",
   "source": "We can also perform operations between the array and a single number.\nFor example, we can multiply all elements by 2:\n",
   "metadata": {
    "formattedRanges": [],
    "is_collapsed": false,
    "cell_id": "7d8534c9-28e9-4848-9a04-88df0a2271b4",
    "tags": [],
    "deepnote_cell_type": "text-cell-p"
   }
  },
  {
   "cell_type": "code",
   "metadata": {
    "cell_id": "5ed0477edc9649e39a4ccc6f8565522d",
    "tags": [],
    "deepnote_to_be_reexecuted": false,
    "source_hash": "16e5ae50",
    "execution_start": 1663563088987,
    "execution_millis": 4,
    "deepnote_cell_type": "code",
    "deepnote_cell_height": 196.859375
   },
   "source": "import numpy as np\n\nx = np.arange(1, 10)\ny = x*2\n\nprint(y)",
   "execution_count": 17,
   "outputs": [
    {
     "name": "stdout",
     "text": "[ 2  4  6  8 10 12 14 16 18]\n",
     "output_type": "stream"
    }
   ]
  },
  {
   "cell_type": "markdown",
   "source": "As simple as that! Take your array and perform any operation you want with it!",
   "metadata": {
    "formattedRanges": [],
    "is_collapsed": false,
    "cell_id": "59dd3955a48441c9843be2e35625fdfa",
    "tags": [],
    "deepnote_cell_type": "text-cell-p"
   }
  },
  {
   "cell_type": "markdown",
   "source": "### Statistics",
   "metadata": {
    "formattedRanges": [],
    "is_collapsed": false,
    "cell_id": "95c79e9b328c4142a8aecef857f36495",
    "tags": [],
    "deepnote_cell_type": "text-cell-h3"
   }
  },
  {
   "cell_type": "markdown",
   "source": "Remember the summary statistics we learned in the previous module? Those included mean, median, variance and standard deviation.",
   "metadata": {
    "formattedRanges": [],
    "is_collapsed": false,
    "cell_id": "69c20d6f5efb4157b82914c2051ab809",
    "tags": [],
    "deepnote_cell_type": "text-cell-p"
   }
  },
  {
   "cell_type": "markdown",
   "source": "NumPy arrays have built-in functions to return those values.",
   "metadata": {
    "formattedRanges": [],
    "is_collapsed": false,
    "cell_id": "3691702d-5edc-4270-b4ba-882ef049464a",
    "tags": [],
    "deepnote_cell_type": "text-cell-p"
   }
  },
  {
   "cell_type": "code",
   "metadata": {
    "cell_id": "806c279ec2634f47a6ba8d24c9898181",
    "tags": [],
    "deepnote_to_be_reexecuted": false,
    "source_hash": "c0081a20",
    "execution_start": 1663563088992,
    "execution_millis": 3,
    "deepnote_cell_type": "code",
    "deepnote_cell_height": 292.453125
   },
   "source": "import numpy as np\n\nx = np.array([14, 18, 19, 24, 26, 33, 42, 55, 67])\n\nprint(np.mean(x))\nprint(np.median(x))\nprint(np.var(x))\nprint(np.std(x))",
   "execution_count": 18,
   "outputs": [
    {
     "name": "stdout",
     "text": "33.111111111111114\n26.0\n292.5432098765432\n17.10389458212787\n",
     "output_type": "stream"
    }
   ]
  },
  {
   "cell_type": "markdown",
   "source": "As you can see, NumPy provides many useful functions to perform common operations with arrays.",
   "metadata": {
    "formattedRanges": [],
    "is_collapsed": false,
    "cell_id": "120926024d34438cbadaccdb4cecc59b",
    "tags": [],
    "deepnote_cell_type": "text-cell-p"
   }
  },
  {
   "cell_type": "code",
   "source": "x = np.arange(3, 9)\nz = x.reshape(2, 3)\nprint(z[1][1])",
   "metadata": {
    "cell_id": "175a47da1a73449db399583488a0508f",
    "tags": [],
    "deepnote_to_be_reexecuted": false,
    "source_hash": "52475266",
    "execution_start": 1663564191459,
    "execution_millis": 12,
    "deepnote_cell_type": "code",
    "deepnote_cell_height": 142.859375
   },
   "outputs": [
    {
     "name": "stdout",
     "text": "7\n",
     "output_type": "stream"
    }
   ],
   "execution_count": 20
  },
  {
   "cell_type": "code",
   "source": "# Fill in the blanks to select the elements of 'x' that are larger than the mean.\nx[x>np.mean(x)]",
   "metadata": {
    "cell_id": "f03e03f1a4b340a9a1f019bf3ec7632a",
    "tags": [],
    "deepnote_to_be_reexecuted": false,
    "source_hash": "6332d43a",
    "execution_start": 1663564194780,
    "execution_millis": 10,
    "deepnote_cell_type": "code",
    "deepnote_cell_height": 135.1875,
    "deepnote_output_heights": [
     20.1875
    ]
   },
   "outputs": [
    {
     "output_type": "execute_result",
     "execution_count": 21,
     "data": {
      "text/plain": "array([6, 7, 8])"
     },
     "metadata": {}
    }
   ],
   "execution_count": 21
  },
  {
   "cell_type": "code",
   "source": "x = np.arange(1, 5)\nx = x*2\nprint(x[:3].sum())",
   "metadata": {
    "cell_id": "b1572588994e4b60bfd50b8c8f48c2b8",
    "tags": [],
    "deepnote_to_be_reexecuted": false,
    "source_hash": "5938b757",
    "execution_start": 1663564198298,
    "execution_millis": 605,
    "deepnote_cell_type": "code",
    "deepnote_cell_height": 142.859375
   },
   "outputs": [
    {
     "name": "stdout",
     "text": "12\n",
     "output_type": "stream"
    }
   ],
   "execution_count": 22
  },
  {
   "cell_type": "code",
   "source": "import numpy as np\n\ndata = np.array([1000, 2500, 1400, 1800, 900, 4200, 2200, 1900, 3500])\n\nnew_house = int(input())\ndata = np.append(data, new_house)\ndata = np.sort(data)\nprint(data)",
   "metadata": {
    "cell_id": "ef823a3c782f41998ac64c71259f898c",
    "tags": [],
    "deepnote_to_be_reexecuted": false,
    "source_hash": "810d509a",
    "execution_start": 1663564202665,
    "execution_millis": 900671,
    "deepnote_cell_type": "code",
    "deepnote_cell_height": 265.1875
   },
   "outputs": [
    {
     "output_type": "error",
     "ename": "KeyboardInterrupt",
     "evalue": "Interrupted by user",
     "traceback": [
      "\u001b[0;31m---------------------------------------------------------------------------\u001b[0m",
      "\u001b[0;31mKeyboardInterrupt\u001b[0m                         Traceback (most recent call last)",
      "\u001b[0;32m/tmp/ipykernel_83/1799105597.py\u001b[0m in \u001b[0;36m<module>\u001b[0;34m\u001b[0m\n\u001b[1;32m      3\u001b[0m \u001b[0mdata\u001b[0m \u001b[0;34m=\u001b[0m \u001b[0mnp\u001b[0m\u001b[0;34m.\u001b[0m\u001b[0marray\u001b[0m\u001b[0;34m(\u001b[0m\u001b[0;34m[\u001b[0m\u001b[0;36m1000\u001b[0m\u001b[0;34m,\u001b[0m \u001b[0;36m2500\u001b[0m\u001b[0;34m,\u001b[0m \u001b[0;36m1400\u001b[0m\u001b[0;34m,\u001b[0m \u001b[0;36m1800\u001b[0m\u001b[0;34m,\u001b[0m \u001b[0;36m900\u001b[0m\u001b[0;34m,\u001b[0m \u001b[0;36m4200\u001b[0m\u001b[0;34m,\u001b[0m \u001b[0;36m2200\u001b[0m\u001b[0;34m,\u001b[0m \u001b[0;36m1900\u001b[0m\u001b[0;34m,\u001b[0m \u001b[0;36m3500\u001b[0m\u001b[0;34m]\u001b[0m\u001b[0;34m)\u001b[0m\u001b[0;34m\u001b[0m\u001b[0;34m\u001b[0m\u001b[0m\n\u001b[1;32m      4\u001b[0m \u001b[0;34m\u001b[0m\u001b[0m\n\u001b[0;32m----> 5\u001b[0;31m \u001b[0mnew_house\u001b[0m \u001b[0;34m=\u001b[0m \u001b[0mint\u001b[0m\u001b[0;34m(\u001b[0m\u001b[0minput\u001b[0m\u001b[0;34m(\u001b[0m\u001b[0;34m)\u001b[0m\u001b[0;34m)\u001b[0m\u001b[0;34m\u001b[0m\u001b[0;34m\u001b[0m\u001b[0m\n\u001b[0m\u001b[1;32m      6\u001b[0m \u001b[0mdata\u001b[0m \u001b[0;34m=\u001b[0m \u001b[0mnp\u001b[0m\u001b[0;34m.\u001b[0m\u001b[0mappend\u001b[0m\u001b[0;34m(\u001b[0m\u001b[0mdata\u001b[0m\u001b[0;34m,\u001b[0m \u001b[0mnew_house\u001b[0m\u001b[0;34m)\u001b[0m\u001b[0;34m\u001b[0m\u001b[0;34m\u001b[0m\u001b[0m\n\u001b[1;32m      7\u001b[0m \u001b[0mdata\u001b[0m \u001b[0;34m=\u001b[0m \u001b[0mnp\u001b[0m\u001b[0;34m.\u001b[0m\u001b[0msort\u001b[0m\u001b[0;34m(\u001b[0m\u001b[0mdata\u001b[0m\u001b[0;34m)\u001b[0m\u001b[0;34m\u001b[0m\u001b[0;34m\u001b[0m\u001b[0m\n",
      "\u001b[0;32m/shared-libs/python3.7/py-core/lib/python3.7/site-packages/ipykernel/kernelbase.py\u001b[0m in \u001b[0;36mraw_input\u001b[0;34m(self, prompt)\u001b[0m\n\u001b[1;32m   1179\u001b[0m             \u001b[0mself\u001b[0m\u001b[0;34m.\u001b[0m\u001b[0m_parent_ident\u001b[0m\u001b[0;34m[\u001b[0m\u001b[0;34m\"shell\"\u001b[0m\u001b[0;34m]\u001b[0m\u001b[0;34m,\u001b[0m\u001b[0;34m\u001b[0m\u001b[0;34m\u001b[0m\u001b[0m\n\u001b[1;32m   1180\u001b[0m             \u001b[0mself\u001b[0m\u001b[0;34m.\u001b[0m\u001b[0mget_parent\u001b[0m\u001b[0;34m(\u001b[0m\u001b[0;34m\"shell\"\u001b[0m\u001b[0;34m)\u001b[0m\u001b[0;34m,\u001b[0m\u001b[0;34m\u001b[0m\u001b[0;34m\u001b[0m\u001b[0m\n\u001b[0;32m-> 1181\u001b[0;31m             \u001b[0mpassword\u001b[0m\u001b[0;34m=\u001b[0m\u001b[0;32mFalse\u001b[0m\u001b[0;34m,\u001b[0m\u001b[0;34m\u001b[0m\u001b[0;34m\u001b[0m\u001b[0m\n\u001b[0m\u001b[1;32m   1182\u001b[0m         )\n\u001b[1;32m   1183\u001b[0m \u001b[0;34m\u001b[0m\u001b[0m\n",
      "\u001b[0;32m/shared-libs/python3.7/py-core/lib/python3.7/site-packages/ipykernel/kernelbase.py\u001b[0m in \u001b[0;36m_input_request\u001b[0;34m(self, prompt, ident, parent, password)\u001b[0m\n\u001b[1;32m   1217\u001b[0m             \u001b[0;32mexcept\u001b[0m \u001b[0mKeyboardInterrupt\u001b[0m\u001b[0;34m:\u001b[0m\u001b[0;34m\u001b[0m\u001b[0;34m\u001b[0m\u001b[0m\n\u001b[1;32m   1218\u001b[0m                 \u001b[0;31m# re-raise KeyboardInterrupt, to truncate traceback\u001b[0m\u001b[0;34m\u001b[0m\u001b[0;34m\u001b[0m\u001b[0;34m\u001b[0m\u001b[0m\n\u001b[0;32m-> 1219\u001b[0;31m                 \u001b[0;32mraise\u001b[0m \u001b[0mKeyboardInterrupt\u001b[0m\u001b[0;34m(\u001b[0m\u001b[0;34m\"Interrupted by user\"\u001b[0m\u001b[0;34m)\u001b[0m \u001b[0;32mfrom\u001b[0m \u001b[0;32mNone\u001b[0m\u001b[0;34m\u001b[0m\u001b[0;34m\u001b[0m\u001b[0m\n\u001b[0m\u001b[1;32m   1220\u001b[0m             \u001b[0;32mexcept\u001b[0m \u001b[0mException\u001b[0m\u001b[0;34m:\u001b[0m\u001b[0;34m\u001b[0m\u001b[0;34m\u001b[0m\u001b[0m\n\u001b[1;32m   1221\u001b[0m                 \u001b[0mself\u001b[0m\u001b[0;34m.\u001b[0m\u001b[0mlog\u001b[0m\u001b[0;34m.\u001b[0m\u001b[0mwarning\u001b[0m\u001b[0;34m(\u001b[0m\u001b[0;34m\"Invalid Message:\"\u001b[0m\u001b[0;34m,\u001b[0m \u001b[0mexc_info\u001b[0m\u001b[0;34m=\u001b[0m\u001b[0;32mTrue\u001b[0m\u001b[0;34m)\u001b[0m\u001b[0;34m\u001b[0m\u001b[0;34m\u001b[0m\u001b[0m\n",
      "\u001b[0;31mKeyboardInterrupt\u001b[0m: Interrupted by user"
     ]
    }
   ],
   "execution_count": 23
  },
  {
   "cell_type": "markdown",
   "source": "### ",
   "metadata": {
    "is_collapsed": false,
    "cell_id": "c244b21396c54f1eb18220d4ffdd2a3a",
    "tags": [],
    "formattedRanges": [],
    "deepnote_cell_type": "text-cell-h3"
   }
  },
  {
   "cell_type": "markdown",
   "source": "",
   "metadata": {
    "formattedRanges": [],
    "is_collapsed": false,
    "cell_id": "f06e39cea05a47e19588f4a85a2c833b",
    "tags": [],
    "deepnote_cell_type": "text-cell-p"
   }
  },
  {
   "cell_type": "markdown",
   "source": "<a style='text-decoration:none;line-height:16px;display:flex;color:#5B5B62;padding:10px;justify-content:end;' href='https://deepnote.com?utm_source=created-in-deepnote-cell&projectId=cc67d05c-cf14-4b9c-9cf4-5fbefe179652' target=\"_blank\">\n<img alt='Created in deepnote.com' style='display:inline;max-height:16px;margin:0px;margin-right:7.5px;' src='data:image/svg+xml;base64,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' > </img>\nCreated in <span style='font-weight:600;margin-left:4px;'>Deepnote</span></a>",
   "metadata": {
    "tags": [],
    "created_in_deepnote_cell": true,
    "deepnote_cell_type": "markdown"
   }
  }
 ],
 "nbformat": 4,
 "nbformat_minor": 2,
 "metadata": {
  "orig_nbformat": 2,
  "deepnote": {},
  "deepnote_notebook_id": "28249097-bb17-4fd7-a217-30a7d4cfad14",
  "deepnote_persisted_session": {
   "createdAt": "2022-09-15T03:31:38.819Z"
  },
  "deepnote_execution_queue": []
 }
}