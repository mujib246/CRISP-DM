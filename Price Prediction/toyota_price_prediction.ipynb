{
 "cells": [
  {
   "cell_type": "markdown",
   "metadata": {},
   "source": [
    "## <span style=\"color:blue\">Business Goal  </span>\n",
    "\n",
    "You are required to model the price of cars with the available independent variables."
   ]
  },
  {
   "cell_type": "markdown",
   "metadata": {
    "papermill": {
     "duration": 0.012185,
     "end_time": "2020-09-06T04:46:43.856320",
     "exception": false,
     "start_time": "2020-09-06T04:46:43.844135",
     "status": "completed"
    },
    "tags": []
   },
   "source": [
    "# Import library"
   ]
  },
  {
   "cell_type": "code",
   "execution_count": null,
   "metadata": {
    "_cell_guid": "b1076dfc-b9ad-4769-8c92-a6c4dae69d19",
    "_uuid": "8f2839f25d086af736a60e9eeb907d3b93b6e0e5",
    "execution": {
     "iopub.execute_input": "2020-09-06T04:46:43.893672Z",
     "iopub.status.busy": "2020-09-06T04:46:43.892788Z",
     "iopub.status.idle": "2020-09-06T04:46:46.039533Z",
     "shell.execute_reply": "2020-09-06T04:46:46.038637Z"
    },
    "papermill": {
     "duration": 2.169354,
     "end_time": "2020-09-06T04:46:46.039677",
     "exception": false,
     "start_time": "2020-09-06T04:46:43.870323",
     "status": "completed"
    },
    "tags": []
   },
   "outputs": [],
   "source": [
    "import numpy as np\n",
    "import matplotlib.pyplot as plt\n",
    "import pandas as pd\n",
    "\n",
    "import seaborn as sns\n",
    "\n",
    "\n",
    "from sklearn.feature_selection import SelectKBest, f_regression\n",
    "from sklearn.linear_model import LinearRegression\n",
    "from sklearn.model_selection import train_test_split\n",
    "\n",
    "from sklearn.preprocessing import StandardScaler\n",
    "\n",
    "\n",
    "import warnings\n",
    "warnings.filterwarnings('ignore')\n",
    "\n",
    "pd.set_option('display.max.columns', None)"
   ]
  },
  {
   "cell_type": "markdown",
   "metadata": {
    "papermill": {
     "duration": 0.012288,
     "end_time": "2020-09-06T04:46:46.064822",
     "exception": false,
     "start_time": "2020-09-06T04:46:46.052534",
     "status": "completed"
    },
    "tags": []
   },
   "source": [
    "# Importing dataset and exploration"
   ]
  },
  {
   "cell_type": "code",
   "execution_count": null,
   "metadata": {
    "_cell_guid": "79c7e3d0-c299-4dcb-8224-4455121ee9b0",
    "_uuid": "d629ff2d2480ee46fbb7e2d37f6b5fab8052498a",
    "execution": {
     "iopub.execute_input": "2020-09-06T04:46:46.163990Z",
     "iopub.status.busy": "2020-09-06T04:46:46.163185Z",
     "iopub.status.idle": "2020-09-06T04:46:46.241379Z",
     "shell.execute_reply": "2020-09-06T04:46:46.241932Z"
    },
    "papermill": {
     "duration": 0.098938,
     "end_time": "2020-09-06T04:46:46.242096",
     "exception": false,
     "start_time": "2020-09-06T04:46:46.143158",
     "status": "completed"
    },
    "tags": []
   },
   "outputs": [],
   "source": [
    "data_tyt = pd.read_csv(\"/Users/deviyantiam/Documents/ML-Session2/Lab/toyota.csv\")\n",
    "print(data_tyt.shape)\n",
    "data_tyt.head()"
   ]
  },
  {
   "cell_type": "markdown",
   "metadata": {
    "papermill": {
     "duration": 0.01275,
     "end_time": "2020-09-06T04:46:46.267953",
     "exception": false,
     "start_time": "2020-09-06T04:46:46.255203",
     "status": "completed"
    },
    "tags": []
   },
   "source": [
    "# Check if there's any missing value"
   ]
  },
  {
   "cell_type": "code",
   "execution_count": null,
   "metadata": {
    "execution": {
     "iopub.execute_input": "2020-09-06T04:46:46.305186Z",
     "iopub.status.busy": "2020-09-06T04:46:46.304422Z",
     "iopub.status.idle": "2020-09-06T04:46:46.312582Z",
     "shell.execute_reply": "2020-09-06T04:46:46.311974Z"
    },
    "papermill": {
     "duration": 0.03189,
     "end_time": "2020-09-06T04:46:46.312722",
     "exception": false,
     "start_time": "2020-09-06T04:46:46.280832",
     "status": "completed"
    },
    "tags": []
   },
   "outputs": [],
   "source": [
    "data_tyt.isnull().sum()"
   ]
  },
  {
   "cell_type": "code",
   "execution_count": null,
   "metadata": {
    "execution": {
     "iopub.execute_input": "2020-09-06T04:46:46.383858Z",
     "iopub.status.busy": "2020-09-06T04:46:46.382599Z",
     "iopub.status.idle": "2020-09-06T04:46:46.417579Z",
     "shell.execute_reply": "2020-09-06T04:46:46.416789Z"
    },
    "papermill": {
     "duration": 0.06531,
     "end_time": "2020-09-06T04:46:46.417714",
     "exception": false,
     "start_time": "2020-09-06T04:46:46.352404",
     "status": "completed"
    },
    "tags": []
   },
   "outputs": [],
   "source": [
    "data_tyt.describe()"
   ]
  },
  {
   "cell_type": "code",
   "execution_count": null,
   "metadata": {},
   "outputs": [],
   "source": [
    "data_tyt.dtypes"
   ]
  },
  {
   "cell_type": "code",
   "execution_count": null,
   "metadata": {},
   "outputs": [],
   "source": [
    "for i in data_tyt.columns:\n",
    "    if data_tyt[i].dtypes=='object':\n",
    "        print(i,'=',data_tyt[i].unique(),'\\n')\n",
    "        \n"
   ]
  },
  {
   "cell_type": "markdown",
   "metadata": {
    "papermill": {
     "duration": 0.013433,
     "end_time": "2020-09-06T04:46:46.444860",
     "exception": false,
     "start_time": "2020-09-06T04:46:46.431427",
     "status": "completed"
    },
    "tags": []
   },
   "source": [
    "# Exploratory data analysis"
   ]
  },
  {
   "cell_type": "code",
   "execution_count": null,
   "metadata": {},
   "outputs": [],
   "source": [
    "plt.figure(figsize=(20,8))\n",
    "plt.subplot(1,2,1)\n",
    "plt.title('Car Price Distribution Plot')\n",
    "sns.distplot(data_tyt.price)\n",
    "\n",
    "\n",
    "plt.show()"
   ]
  },
  {
   "cell_type": "markdown",
   "metadata": {},
   "source": [
    "#### Inference :\n",
    "\n",
    "The plot seemed to be right-skewed, meaning that the most prices in the dataset are low(Below 15,000)."
   ]
  },
  {
   "cell_type": "code",
   "execution_count": null,
   "metadata": {
    "execution": {
     "iopub.execute_input": "2020-09-06T04:46:46.479096Z",
     "iopub.status.busy": "2020-09-06T04:46:46.478220Z",
     "iopub.status.idle": "2020-09-06T04:46:46.669453Z",
     "shell.execute_reply": "2020-09-06T04:46:46.668638Z"
    },
    "papermill": {
     "duration": 0.210994,
     "end_time": "2020-09-06T04:46:46.669585",
     "exception": false,
     "start_time": "2020-09-06T04:46:46.458591",
     "status": "completed"
    },
    "tags": []
   },
   "outputs": [],
   "source": [
    "sns.countplot(data_tyt[\"transmission\"])\n",
    "plt.show()"
   ]
  },
  {
   "cell_type": "markdown",
   "metadata": {},
   "source": [
    "Most of the cars on the dataset are with .... transmission"
   ]
  },
  {
   "cell_type": "code",
   "execution_count": null,
   "metadata": {
    "execution": {
     "iopub.execute_input": "2020-09-06T04:46:46.739830Z",
     "iopub.status.busy": "2020-09-06T04:46:46.738957Z",
     "iopub.status.idle": "2020-09-06T04:46:47.088083Z",
     "shell.execute_reply": "2020-09-06T04:46:47.087287Z"
    },
    "papermill": {
     "duration": 0.374831,
     "end_time": "2020-09-06T04:46:47.088210",
     "exception": false,
     "start_time": "2020-09-06T04:46:46.713379",
     "status": "completed"
    },
    "tags": []
   },
   "outputs": [],
   "source": [
    "print('Model sold in %')\n",
    "print(data_tyt[\"model\"].value_counts() / len(data_tyt)*100)\n",
    "sns.countplot(y = data_tyt[\"model\"])\n",
    "plt.show()"
   ]
  },
  {
   "cell_type": "markdown",
   "metadata": {
    "papermill": {
     "duration": 0.01452,
     "end_time": "2020-09-06T04:46:47.117810",
     "exception": false,
     "start_time": "2020-09-06T04:46:47.103290",
     "status": "completed"
    },
    "tags": []
   },
   "source": [
    "Top 3 cars are \n",
    "<br>\n",
    "- \n",
    "- \n",
    "- \n",
    "<br>on the dataset constuite ....% of all the toyota cars, with all other cars contributing to ...%"
   ]
  },
  {
   "cell_type": "code",
   "execution_count": null,
   "metadata": {
    "execution": {
     "iopub.execute_input": "2020-09-06T04:46:47.153904Z",
     "iopub.status.busy": "2020-09-06T04:46:47.153078Z",
     "iopub.status.idle": "2020-09-06T04:46:47.308245Z",
     "shell.execute_reply": "2020-09-06T04:46:47.308812Z"
    },
    "papermill": {
     "duration": 0.17627,
     "end_time": "2020-09-06T04:46:47.308979",
     "exception": false,
     "start_time": "2020-09-06T04:46:47.132709",
     "status": "completed"
    },
    "tags": []
   },
   "outputs": [],
   "source": [
    "sns.countplot(data_tyt[\"fuelType\"])\n",
    "plt.show()"
   ]
  },
  {
   "cell_type": "markdown",
   "metadata": {},
   "source": [
    "Most Toyota cars use ...Engine"
   ]
  },
  {
   "cell_type": "code",
   "execution_count": null,
   "metadata": {
    "execution": {
     "iopub.execute_input": "2020-09-06T04:46:47.346412Z",
     "iopub.status.busy": "2020-09-06T04:46:47.345336Z",
     "iopub.status.idle": "2020-09-06T04:46:47.607059Z",
     "shell.execute_reply": "2020-09-06T04:46:47.606270Z"
    },
    "papermill": {
     "duration": 0.282759,
     "end_time": "2020-09-06T04:46:47.607201",
     "exception": false,
     "start_time": "2020-09-06T04:46:47.324442",
     "status": "completed"
    },
    "tags": []
   },
   "outputs": [],
   "source": [
    "sns.countplot(y = data_tyt[\"year\"])\n",
    "plt.show()"
   ]
  },
  {
   "cell_type": "markdown",
   "metadata": {},
   "source": [
    "Most cars were produced in ..."
   ]
  },
  {
   "cell_type": "code",
   "execution_count": null,
   "metadata": {
    "execution": {
     "iopub.execute_input": "2020-09-06T04:46:47.646985Z",
     "iopub.status.busy": "2020-09-06T04:46:47.645846Z",
     "iopub.status.idle": "2020-09-06T04:46:48.785767Z",
     "shell.execute_reply": "2020-09-06T04:46:48.785088Z"
    },
    "papermill": {
     "duration": 1.163077,
     "end_time": "2020-09-06T04:46:48.785907",
     "exception": false,
     "start_time": "2020-09-06T04:46:47.622830",
     "status": "completed"
    },
    "tags": []
   },
   "outputs": [],
   "source": [
    "plt.figure(figsize=(15,5),facecolor='w') \n",
    "sns.barplot(x = data_tyt[\"year\"], y = data_tyt[\"price\"])\n",
    "plt.show()"
   ]
  },
  {
   "cell_type": "markdown",
   "metadata": {
    "papermill": {
     "duration": 0.01555,
     "end_time": "2020-09-06T04:46:48.817532",
     "exception": false,
     "start_time": "2020-09-06T04:46:48.801982",
     "status": "completed"
    },
    "tags": []
   },
   "source": [
    "The recently manufactured cars (year = 2019, 2020) are sold for more average price when compared to the cars that are manufactured earlier."
   ]
  },
  {
   "cell_type": "code",
   "execution_count": null,
   "metadata": {
    "execution": {
     "iopub.execute_input": "2020-09-06T04:46:48.856567Z",
     "iopub.status.busy": "2020-09-06T04:46:48.855794Z",
     "iopub.status.idle": "2020-09-06T04:46:49.210014Z",
     "shell.execute_reply": "2020-09-06T04:46:49.209187Z"
    },
    "papermill": {
     "duration": 0.376566,
     "end_time": "2020-09-06T04:46:49.210149",
     "exception": false,
     "start_time": "2020-09-06T04:46:48.833583",
     "status": "completed"
    },
    "tags": []
   },
   "outputs": [],
   "source": [
    "sns.barplot(x = data_tyt[\"transmission\"], y = data_tyt[\"price\"])\n",
    "plt.show()"
   ]
  },
  {
   "cell_type": "markdown",
   "metadata": {},
   "source": [
    ".... cars were sold for the highest price"
   ]
  },
  {
   "cell_type": "code",
   "execution_count": null,
   "metadata": {
    "execution": {
     "iopub.execute_input": "2020-09-06T04:46:49.252779Z",
     "iopub.status.busy": "2020-09-06T04:46:49.251937Z",
     "iopub.status.idle": "2020-09-06T04:46:50.006988Z",
     "shell.execute_reply": "2020-09-06T04:46:50.007661Z"
    },
    "papermill": {
     "duration": 0.781046,
     "end_time": "2020-09-06T04:46:50.007847",
     "exception": false,
     "start_time": "2020-09-06T04:46:49.226801",
     "status": "completed"
    },
    "tags": []
   },
   "outputs": [],
   "source": [
    "plt.figure(figsize=(15,10),facecolor='w') \n",
    "sns.scatterplot(data_tyt[\"mileage\"], data_tyt[\"price\"], hue = data_tyt[\"year\"])\n",
    "plt.show()"
   ]
  },
  {
   "cell_type": "markdown",
   "metadata": {},
   "source": [
    "as newer the car is and as smaller the mileage is, the higher price it is worth"
   ]
  },
  {
   "cell_type": "code",
   "execution_count": null,
   "metadata": {
    "execution": {
     "iopub.execute_input": "2020-09-06T04:46:50.054074Z",
     "iopub.status.busy": "2020-09-06T04:46:50.053190Z",
     "iopub.status.idle": "2020-09-06T04:46:50.794844Z",
     "shell.execute_reply": "2020-09-06T04:46:50.795605Z"
    },
    "papermill": {
     "duration": 0.769187,
     "end_time": "2020-09-06T04:46:50.795818",
     "exception": false,
     "start_time": "2020-09-06T04:46:50.026631",
     "status": "completed"
    },
    "tags": []
   },
   "outputs": [],
   "source": [
    "plt.figure(figsize=(15,5),facecolor='w') \n",
    "sns.scatterplot(data_tyt[\"mileage\"], data_tyt[\"price\"], hue = data_tyt[\"fuelType\"])\n",
    "plt.show()"
   ]
  },
  {
   "cell_type": "markdown",
   "metadata": {},
   "source": [
    "petrol cars tend to cost cheaper"
   ]
  },
  {
   "cell_type": "code",
   "execution_count": null,
   "metadata": {
    "execution": {
     "iopub.execute_input": "2020-09-06T04:46:50.866000Z",
     "iopub.status.busy": "2020-09-06T04:46:50.862248Z",
     "iopub.status.idle": "2020-09-06T04:47:03.120054Z",
     "shell.execute_reply": "2020-09-06T04:47:03.120704Z"
    },
    "papermill": {
     "duration": 12.300716,
     "end_time": "2020-09-06T04:47:03.120886",
     "exception": false,
     "start_time": "2020-09-06T04:46:50.820170",
     "status": "completed"
    },
    "tags": []
   },
   "outputs": [],
   "source": [
    "sns.pairplot(data_tyt)"
   ]
  },
  {
   "cell_type": "markdown",
   "metadata": {
    "papermill": {
     "duration": 0.02288,
     "end_time": "2020-09-06T04:47:03.168044",
     "exception": false,
     "start_time": "2020-09-06T04:47:03.145164",
     "status": "completed"
    },
    "tags": []
   },
   "source": [
    "### Try to calculate how old the car is by ruling out cars from 2020 and subtracting 2000 from the year field"
   ]
  },
  {
   "cell_type": "code",
   "execution_count": null,
   "metadata": {
    "execution": {
     "iopub.execute_input": "2020-09-06T04:47:03.220911Z",
     "iopub.status.busy": "2020-09-06T04:47:03.219817Z",
     "iopub.status.idle": "2020-09-06T04:47:03.243937Z",
     "shell.execute_reply": "2020-09-06T04:47:03.243194Z"
    },
    "papermill": {
     "duration": 0.053287,
     "end_time": "2020-09-06T04:47:03.244056",
     "exception": false,
     "start_time": "2020-09-06T04:47:03.190769",
     "status": "completed"
    },
    "tags": []
   },
   "outputs": [],
   "source": [
    "data_tyt[\"age_of_car\"] = 2020 - data_tyt[\"year\"]\n",
    "data_tyt = data_tyt.drop(columns = [\"year\"])\n",
    "data_tyt.sample(10)"
   ]
  },
  {
   "cell_type": "markdown",
   "metadata": {
    "papermill": {
     "duration": 0.022803,
     "end_time": "2020-09-06T04:47:03.290845",
     "exception": false,
     "start_time": "2020-09-06T04:47:03.268042",
     "status": "completed"
    },
    "tags": []
   },
   "source": [
    "# Pre-processing for modeling"
   ]
  },
  {
   "cell_type": "markdown",
   "metadata": {
    "papermill": {
     "duration": 0.022961,
     "end_time": "2020-09-06T04:47:03.336926",
     "exception": false,
     "start_time": "2020-09-06T04:47:03.313965",
     "status": "completed"
    },
    "tags": []
   },
   "source": [
    "I like to use pd.get_dummies option over OHE in SKLearn to get the one hot encoded variables for the categorical variables. It is usually tidy on the dataset and the column names are preserved."
   ]
  },
  {
   "cell_type": "code",
   "execution_count": null,
   "metadata": {
    "execution": {
     "iopub.execute_input": "2020-09-06T04:47:03.395775Z",
     "iopub.status.busy": "2020-09-06T04:47:03.394969Z",
     "iopub.status.idle": "2020-09-06T04:47:03.437166Z",
     "shell.execute_reply": "2020-09-06T04:47:03.436560Z"
    },
    "papermill": {
     "duration": 0.07691,
     "end_time": "2020-09-06T04:47:03.437316",
     "exception": false,
     "start_time": "2020-09-06T04:47:03.360406",
     "status": "completed"
    },
    "tags": []
   },
   "outputs": [],
   "source": [
    "data_tyt_expanded = pd.get_dummies(data_tyt)\n",
    "data_tyt_expanded.head()"
   ]
  },
  {
   "cell_type": "markdown",
   "metadata": {
    "papermill": {
     "duration": 0.023601,
     "end_time": "2020-09-06T04:47:03.484989",
     "exception": false,
     "start_time": "2020-09-06T04:47:03.461388",
     "status": "completed"
    },
    "tags": []
   },
   "source": [
    "Applying the standard scalar option to standardize all the variables in the dataset."
   ]
  },
  {
   "cell_type": "code",
   "execution_count": null,
   "metadata": {},
   "outputs": [],
   "source": [
    "std = StandardScaler()\n",
    "data_tyt_expanded_std = std.fit_transform(data_tyt_expanded)"
   ]
  },
  {
   "cell_type": "code",
   "execution_count": null,
   "metadata": {},
   "outputs": [],
   "source": [
    "data_tyt_expanded_std = pd.DataFrame(data_tyt_expanded_std, columns = data_tyt_expanded.columns)\n",
    "print(data_tyt_expanded_std.shape)\n",
    "data_tyt_expanded_std.head()"
   ]
  },
  {
   "cell_type": "code",
   "execution_count": null,
   "metadata": {
    "execution": {
     "iopub.execute_input": "2020-09-06T04:47:03.679633Z",
     "iopub.status.busy": "2020-09-06T04:47:03.678780Z",
     "iopub.status.idle": "2020-09-06T04:47:03.692614Z",
     "shell.execute_reply": "2020-09-06T04:47:03.691926Z"
    },
    "papermill": {
     "duration": 0.050173,
     "end_time": "2020-09-06T04:47:03.692748",
     "exception": false,
     "start_time": "2020-09-06T04:47:03.642575",
     "status": "completed"
    },
    "tags": []
   },
   "outputs": [],
   "source": [
    "X_train, X_test, y_train, y_test = train_test_split(data_tyt_expanded_std.drop(columns = ['price']), data_tyt_expanded_std[['price']],test_size=0.2)\n",
    "print(X_train.shape)\n",
    "print(X_test.shape)\n",
    "print(y_train.shape)\n",
    "print(y_test.shape)"
   ]
  },
  {
   "cell_type": "markdown",
   "metadata": {
    "papermill": {
     "duration": 0.025435,
     "end_time": "2020-09-06T04:47:03.743966",
     "exception": false,
     "start_time": "2020-09-06T04:47:03.718531",
     "status": "completed"
    },
    "tags": []
   },
   "source": [
    "# Modeling"
   ]
  },
  {
   "cell_type": "code",
   "execution_count": null,
   "metadata": {
    "execution": {
     "iopub.execute_input": "2020-09-06T04:47:04.846168Z",
     "iopub.status.busy": "2020-09-06T04:47:04.845354Z",
     "iopub.status.idle": "2020-09-06T04:47:04.849072Z",
     "shell.execute_reply": "2020-09-06T04:47:04.848218Z"
    },
    "papermill": {
     "duration": 0.037231,
     "end_time": "2020-09-06T04:47:04.849223",
     "exception": false,
     "start_time": "2020-09-06T04:47:04.811992",
     "status": "completed"
    },
    "tags": []
   },
   "outputs": [],
   "source": [
    "def regression_model(model,xtrain,ytrain,xtest,ytest):\n",
    "    \"\"\"\n",
    "    Will fit the regression model passed and will return the regressor object and the score\n",
    "    \"\"\"\n",
    "    regressor = model\n",
    "    regressor.fit(xtrain, ytrain)\n",
    "    score = regressor.score(xtest, ytest)\n",
    "    return regressor, score"
   ]
  },
  {
   "cell_type": "code",
   "execution_count": null,
   "metadata": {
    "execution": {
     "iopub.execute_input": "2020-09-06T04:47:04.918675Z",
     "iopub.status.busy": "2020-09-06T04:47:04.917602Z",
     "iopub.status.idle": "2020-09-06T04:47:24.832816Z",
     "shell.execute_reply": "2020-09-06T04:47:24.832173Z"
    },
    "papermill": {
     "duration": 19.956953,
     "end_time": "2020-09-06T04:47:24.832963",
     "exception": false,
     "start_time": "2020-09-06T04:47:04.876010",
     "status": "completed"
    },
    "tags": []
   },
   "outputs": [],
   "source": [
    "model_performance = pd.DataFrame(columns = [\"Features\", \"Model\", \"Score\"])\n",
    "\n",
    "model= LinearRegression()\n",
    "regressor, score = regression_model(model,X_train, y_train, X_test, y_test )\n",
    "model_performance = model_performance.append({\"Features\": \"Linear\",\"Model\": \"Linear\", \"Score\": score}, ignore_index=True)\n",
    "pd.set_option('max_colwidth', -1)\n",
    "model_performance"
   ]
  },
  {
   "cell_type": "code",
   "execution_count": null,
   "metadata": {},
   "outputs": [],
   "source": [
    "regressor.predict(X_test)[:5]"
   ]
  },
  {
   "cell_type": "code",
   "execution_count": null,
   "metadata": {},
   "outputs": [],
   "source": [
    "inverse_data_test=std.inverse_transform(np.column_stack((regressor.predict(X_test),X_test)))"
   ]
  },
  {
   "cell_type": "code",
   "execution_count": null,
   "metadata": {},
   "outputs": [],
   "source": [
    "Inverse_test = pd.DataFrame(inverse_data_test, columns = data_tyt_expanded.columns)"
   ]
  },
  {
   "cell_type": "code",
   "execution_count": null,
   "metadata": {},
   "outputs": [],
   "source": [
    "Inverse_test.head()"
   ]
  },
  {
   "cell_type": "markdown",
   "metadata": {
    "papermill": {
     "duration": 0.025629,
     "end_time": "2020-09-06T04:47:03.795493",
     "exception": false,
     "start_time": "2020-09-06T04:47:03.769864",
     "status": "completed"
    },
    "tags": []
   },
   "source": [
    "## Selecting best features for model"
   ]
  },
  {
   "cell_type": "markdown",
   "metadata": {
    "papermill": {
     "duration": 0.025293,
     "end_time": "2020-09-06T04:47:03.846262",
     "exception": false,
     "start_time": "2020-09-06T04:47:03.820969",
     "status": "completed"
    },
    "tags": []
   },
   "source": [
    "Since there are 31 variables in the dataset after the one hot encoding, I am using SelectKBest option from sklearn to select the best features from the dataset for applying the regression.\n",
    "\n",
    "For this, I am executing the SelectKBest() on f_regression by taking into consideration from 3 variables to 31 variables to see where we get the best score. \n",
    "\n"
   ]
  },
  {
   "cell_type": "code",
   "execution_count": null,
   "metadata": {
    "execution": {
     "iopub.execute_input": "2020-09-06T04:47:03.911532Z",
     "iopub.status.busy": "2020-09-06T04:47:03.910362Z",
     "iopub.status.idle": "2020-09-06T04:47:04.654780Z",
     "shell.execute_reply": "2020-09-06T04:47:04.655362Z"
    },
    "papermill": {
     "duration": 0.783749,
     "end_time": "2020-09-06T04:47:04.655540",
     "exception": false,
     "start_time": "2020-09-06T04:47:03.871791",
     "status": "completed"
    },
    "scrolled": true,
    "tags": []
   },
   "outputs": [],
   "source": [
    "column_names = data_tyt_expanded.drop(columns = ['price']).columns\n",
    "\n",
    "no_of_features = []\n",
    "r_squared_train = []\n",
    "r_squared_test = []\n",
    "\n",
    "for k in range(3, 31, 2):\n",
    "    selector = SelectKBest(f_regression, k = k)\n",
    "    X_train_transformed = selector.fit_transform(X_train, y_train)\n",
    "    X_test_transformed = selector.transform(X_test)\n",
    "    regressor1 = LinearRegression()\n",
    "    regressor1.fit(X_train_transformed, y_train)\n",
    "    no_of_features.append(k)\n",
    "    r_squared_train.append(regressor1.score(X_train_transformed, y_train))\n",
    "    r_squared_test.append(regressor1.score(X_test_transformed, y_test))\n",
    "    \n",
    "sns.lineplot(x = no_of_features, y = r_squared_train, legend = 'full')\n",
    "sns.lineplot(x = no_of_features, y = r_squared_test, legend = 'full')\n",
    "plt.show()"
   ]
  },
  {
   "cell_type": "markdown",
   "metadata": {
    "papermill": {
     "duration": 0.024884,
     "end_time": "2020-09-06T04:47:04.705736",
     "exception": false,
     "start_time": "2020-09-06T04:47:04.680852",
     "status": "completed"
    },
    "tags": []
   },
   "source": [
    "We get score of 0.88 around 16 variables befor the curve stablizes. Hence keeping k as 16 selecting 16 best variables from the dataset"
   ]
  },
  {
   "cell_type": "code",
   "execution_count": null,
   "metadata": {
    "execution": {
     "iopub.execute_input": "2020-09-06T04:47:04.765618Z",
     "iopub.status.busy": "2020-09-06T04:47:04.764795Z",
     "iopub.status.idle": "2020-09-06T04:47:04.784401Z",
     "shell.execute_reply": "2020-09-06T04:47:04.783608Z"
    },
    "papermill": {
     "duration": 0.053581,
     "end_time": "2020-09-06T04:47:04.784554",
     "exception": false,
     "start_time": "2020-09-06T04:47:04.730973",
     "status": "completed"
    },
    "tags": []
   },
   "outputs": [],
   "source": [
    "selector = SelectKBest(f_regression, k = 16)\n",
    "X_train_transformed = selector.fit_transform(X_train, y_train)\n",
    "X_test_transformed = selector.transform(X_test)\n",
    "column_names[selector.get_support()]"
   ]
  },
  {
   "cell_type": "code",
   "execution_count": null,
   "metadata": {
    "execution": {
     "iopub.execute_input": "2020-09-06T04:47:04.918675Z",
     "iopub.status.busy": "2020-09-06T04:47:04.917602Z",
     "iopub.status.idle": "2020-09-06T04:47:24.832816Z",
     "shell.execute_reply": "2020-09-06T04:47:24.832173Z"
    },
    "papermill": {
     "duration": 19.956953,
     "end_time": "2020-09-06T04:47:24.832963",
     "exception": false,
     "start_time": "2020-09-06T04:47:04.876010",
     "status": "completed"
    },
    "tags": []
   },
   "outputs": [],
   "source": [
    "model1= LinearRegression()\n",
    "regressor2, score2 = regression_model(model1,X_train_transformed,y_train,X_test_transformed,y_test)\n",
    "model_performance = model_performance.append({\"Features\": \"Linear+FeatureSelection\",\"Model\": \"Linear\", \"Score\": score2}, ignore_index=True)\n",
    "pd.set_option('max_colwidth', -1)\n",
    "model_performance"
   ]
  },
  {
   "cell_type": "markdown",
   "metadata": {
    "papermill": {
     "duration": 0.040043,
     "end_time": "2020-09-06T04:47:24.899946",
     "exception": false,
     "start_time": "2020-09-06T04:47:24.859903",
     "status": "completed"
    },
    "tags": []
   },
   "source": [
    "The score is ...."
   ]
  },
  {
   "cell_type": "markdown",
   "metadata": {
    "papermill": {
     "duration": 0.030882,
     "end_time": "2020-09-06T04:47:24.971231",
     "exception": false,
     "start_time": "2020-09-06T04:47:24.940349",
     "status": "completed"
    },
    "tags": []
   },
   "source": [
    "# Multilinear regression (scratch)"
   ]
  },
  {
   "cell_type": "code",
   "execution_count": null,
   "metadata": {},
   "outputs": [],
   "source": [
    "# H = np.array(X_train_transformed)\n",
    "H = X_train_transformed\n",
    "# Add a vector of 1s to the numpy array to represent the 1st feature\n",
    "ones = np.ones(len(H))\n",
    "H = np.column_stack((ones,H))"
   ]
  },
  {
   "cell_type": "code",
   "execution_count": null,
   "metadata": {},
   "outputs": [],
   "source": [
    "# Calculate the parameter weights using the Closed Form solution of multiple linear regression\n",
    "model_scratch = np.dot(np.linalg.pinv(np.dot(np.transpose(H),H)),np.dot(np.transpose(H),y_train))"
   ]
  },
  {
   "cell_type": "code",
   "execution_count": null,
   "metadata": {},
   "outputs": [],
   "source": [
    "# Now we have the parameter weights and this can be used to make predictions on unseen data.\n",
    "ones = np.ones(len(X_test_transformed))\n",
    "H = np.column_stack((ones,X_test_transformed))\n",
    "prediction = np.dot(H,model_scratch)"
   ]
  },
  {
   "cell_type": "code",
   "execution_count": null,
   "metadata": {},
   "outputs": [],
   "source": [
    "from sklearn.metrics import r2_score\n",
    "r2_score(y_test, prediction)"
   ]
  },
  {
   "cell_type": "code",
   "execution_count": null,
   "metadata": {},
   "outputs": [],
   "source": [
    "y_=regressor.predict(X_test)"
   ]
  },
  {
   "cell_type": "code",
   "execution_count": null,
   "metadata": {},
   "outputs": [],
   "source": [
    "y_predtrain=regressor.predict(X_train)"
   ]
  },
  {
   "cell_type": "code",
   "execution_count": null,
   "metadata": {},
   "outputs": [],
   "source": [
    "y_fstrain=regressor2.predict(X_train_transformed)"
   ]
  },
  {
   "cell_type": "code",
   "execution_count": null,
   "metadata": {},
   "outputs": [],
   "source": [
    "y_fs=regressor2.predict(X_test_transformed)"
   ]
  },
  {
   "cell_type": "code",
   "execution_count": null,
   "metadata": {},
   "outputs": [],
   "source": [
    "from sklearn.metrics import mean_squared_error\n",
    "def rms(y_act, y_pred,name):\n",
    "    print('MSE',name,mean_squared_error(y_act, y_pred))\n",
    "    print('RMSE',name,np.sqrt(mean_squared_error(y_act, y_pred)))\n",
    "def adjr2(R2,n,p):\n",
    "    print('adj R2',1-(1-R2)*(n-1)/(n-p-1))"
   ]
  },
  {
   "cell_type": "code",
   "execution_count": null,
   "metadata": {},
   "outputs": [],
   "source": [
    "rms(y_test,y_,'test')\n",
    "rms(y_train,y_predtrain,'train')\n",
    "\n",
    "n=len(y_test)\n",
    "p=X_test.shape[1]\n",
    "adjr2(score,n,p)"
   ]
  },
  {
   "cell_type": "code",
   "execution_count": null,
   "metadata": {},
   "outputs": [],
   "source": [
    "rms(y_test,y_fs,'FS+test')\n",
    "rms(y_train,y_fstrain,'FS+train')\n",
    "n=len(y_test)\n",
    "p=X_test_transformed.shape[1]\n",
    "adjr2(score,n,p)"
   ]
  },
  {
   "cell_type": "code",
   "execution_count": null,
   "metadata": {},
   "outputs": [],
   "source": [
    "from statsmodels.stats.outliers_influence import variance_inflation_factor\n",
    "vif = pd.DataFrame()\n",
    "vif['VIF'] = [variance_inflation_factor(X_test[['mileage','tax','mpg','engineSize','age_of_car']].values, i) for i in range(X_test[['mileage','tax','mpg','engineSize','age_of_car']].shape[1])]\n",
    "vif[\"features\"] = X_test[['mileage','tax','mpg','engineSize','age_of_car']].columns\n",
    "vif"
   ]
  },
  {
   "cell_type": "code",
   "execution_count": null,
   "metadata": {},
   "outputs": [],
   "source": [
    "from statsmodels.stats.outliers_influence import variance_inflation_factor\n",
    "vif = pd.DataFrame()\n",
    "vif['VIF'] = [variance_inflation_factor(X_test_transformed, i) for i in range(np.shape(X_test_transformed)[1])]\n",
    "vif[\"features\"] = column_names[selector.get_support()]\n",
    "vif"
   ]
  },
  {
   "cell_type": "code",
   "execution_count": null,
   "metadata": {},
   "outputs": [],
   "source": []
  }
 ],
 "metadata": {
  "kernelspec": {
   "display_name": "Python 3",
   "language": "python",
   "name": "python3"
  },
  "language_info": {
   "codemirror_mode": {
    "name": "ipython",
    "version": 3
   },
   "file_extension": ".py",
   "mimetype": "text/x-python",
   "name": "python",
   "nbconvert_exporter": "python",
   "pygments_lexer": "ipython3",
   "version": "3.7.3"
  },
  "papermill": {
   "duration": 110.087723,
   "end_time": "2020-09-06T04:48:18.811978",
   "environment_variables": {},
   "exception": null,
   "input_path": "__notebook__.ipynb",
   "output_path": "__notebook__.ipynb",
   "parameters": {},
   "start_time": "2020-09-06T04:46:28.724255",
   "version": "2.1.0"
  }
 },
 "nbformat": 4,
 "nbformat_minor": 4
}
