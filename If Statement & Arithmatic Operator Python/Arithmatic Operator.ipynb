{
  "nbformat": 4,
  "nbformat_minor": 0,
  "metadata": {
    "colab": {
      "provenance": []
    },
    "kernelspec": {
      "name": "python3",
      "display_name": "Python 3"
    },
    "language_info": {
      "name": "python"
    }
  },
  "cells": [
    {
      "cell_type": "markdown",
      "source": [
        "IF STATEMENT"
      ],
      "metadata": {
        "id": "ky8XZgmx4j4P"
      }
    },
    {
      "cell_type": "code",
      "execution_count": null,
      "metadata": {
        "id": "9GT03DrD2Qxl"
      },
      "outputs": [],
      "source": [
        "def test_if_statement():\n",
        "    \"\"\"IF statement\"\"\"\n",
        "\n",
        "    number = 0\n",
        "\n",
        "    if number < 0:\n",
        "        print('Number is less than zero')\n",
        "    elif number == 0:\n",
        "        print('Number equals to zero')\n",
        "    elif number < 1:\n",
        "        print('Number is greater than zero but less than one')\n",
        "    else:\n",
        "        print('Number bigger than or equal to one')"
      ]
    },
    {
      "cell_type": "code",
      "source": [
        "test_if_statement()"
      ],
      "metadata": {
        "colab": {
          "base_uri": "https://localhost:8080/"
        },
        "id": "lQzhCs4g2SAx",
        "outputId": "a54a1ea1-2b89-4b83-fc09-26fbfd0106c7"
      },
      "execution_count": null,
      "outputs": [
        {
          "output_type": "stream",
          "name": "stdout",
          "text": [
            "Number equals to zero\n"
          ]
        }
      ]
    },
    {
      "cell_type": "markdown",
      "source": [
        "ARITHMATIC OPERATOR"
      ],
      "metadata": {
        "id": "9lr3Fbl24udK"
      }
    },
    {
      "cell_type": "code",
      "source": [
        "def test_arithmetic_operators():\n",
        "    \"\"\"Arithmetic operators\"\"\"\n",
        "\n",
        "    # Addition.\n",
        "    assert 5 + 3 == 8\n",
        "\n",
        "    # Subtraction.\n",
        "    assert 5 - 3 == 2\n",
        "\n",
        "    # Multiplication.\n",
        "    assert 5 * 3 == 15\n",
        "    assert isinstance(5 * 3, int)\n",
        "\n",
        "    # Division.\n",
        "    # Result of division is float number.\n",
        "    assert 5 / 3 == 1.6666666666666667\n",
        "    assert 8 / 4 == 2\n",
        "    assert isinstance(5 / 3, float)\n",
        "    assert isinstance(8 / 4, float)\n",
        "\n",
        "    # Modulus.\n",
        "    assert 5 % 3 == 2\n",
        "\n",
        "    # Exponentiation.\n",
        "    assert 5 ** 3 == 125\n",
        "    assert 2 ** 3 == 8\n",
        "    assert 2 ** 4 == 16\n",
        "    assert 2 ** 5 == 32\n",
        "    assert isinstance(5 ** 3, int)\n",
        "\n",
        "    # Floor division.\n",
        "    assert 5 // 3 == 1\n",
        "    assert 6 // 3 == 2\n",
        "    assert 7 // 3 == 2\n",
        "    assert 9 // 3 == 3\n",
        "    assert isinstance(5 // 3, int)"
      ],
      "metadata": {
        "id": "hAxRA8G62ZS6"
      },
      "execution_count": null,
      "outputs": []
    },
    {
      "cell_type": "code",
      "source": [
        "4 ** 2"
      ],
      "metadata": {
        "colab": {
          "base_uri": "https://localhost:8080/"
        },
        "id": "r6oBpRw146sR",
        "outputId": "7f6a2130-67d4-4c4c-a2ff-a3e782d43989"
      },
      "execution_count": null,
      "outputs": [
        {
          "output_type": "execute_result",
          "data": {
            "text/plain": [
              "16"
            ]
          },
          "metadata": {},
          "execution_count": 22
        }
      ]
    },
    {
      "cell_type": "code",
      "source": [
        "def test_bitwise_operators():\n",
        "    \"\"\"Bitwise operators\"\"\"\n",
        "\n",
        "    # AND\n",
        "    # Sets each bit to 1 if both bits are 1.\n",
        "    #\n",
        "    # Example:\n",
        "    # 5 = 0b0101\n",
        "    # 3 = 0b0011\n",
        "    assert 5 & 3 == 1  # 0b0001\n",
        "\n",
        "    # OR\n",
        "    # Sets each bit to 1 if one of two bits is 1.\n",
        "    #\n",
        "    # Example:\n",
        "    # 5 = 0b0101\n",
        "    # 3 = 0b0011\n",
        "    assert 5 | 3 == 7  # 0b0111\n",
        "\n",
        "    # NOT\n",
        "    # Inverts all the bits.\n",
        "    assert ~5 == -6\n",
        "\n",
        "    # XOR\n",
        "    # Sets each bit to 1 if only one of two bits is 1.\n",
        "    #\n",
        "    # Example:\n",
        "    # 5 = 0b0101\n",
        "    # 3 = 0b0011\n",
        "    number = 5  # 0b0101\n",
        "    number ^= 3  # 0b0011\n",
        "    assert 5 ^ 3 == 6  # 0b0110\n",
        "\n",
        "    # Signed right shift\n",
        "    # Shift right by pushing copies of the leftmost bit in from the left, and let the rightmost\n",
        "    # bits fall off.\n",
        "    #\n",
        "    # Example:\n",
        "    # 5 = 0b0101\n",
        "    assert 5 >> 1 == 2  # 0b0010\n",
        "    assert 5 >> 2 == 1  # 0b0001\n",
        "\n",
        "    # Zero fill left shift\n",
        "    # Shift left by pushing zeros in from the right and let the leftmost bits fall off.\n",
        "    #\n",
        "    # Example:\n",
        "    # 5 = 0b0101\n",
        "    assert 5 << 1 == 10  # 0b1010\n",
        "    assert 5 << 2 == 20  # 0b10100"
      ],
      "metadata": {
        "id": "Ogg477Si5Ij2"
      },
      "execution_count": null,
      "outputs": []
    },
    {
      "cell_type": "code",
      "source": [
        "# 5 = 0b0101\n",
        "# 3 = 0b0011\n",
        "5 & 3 == 1"
      ],
      "metadata": {
        "colab": {
          "base_uri": "https://localhost:8080/"
        },
        "id": "w50nD7_h5efX",
        "outputId": "16220782-7368-4c8d-86fe-3d67c6440bd1"
      },
      "execution_count": null,
      "outputs": [
        {
          "output_type": "execute_result",
          "data": {
            "text/plain": [
              "True"
            ]
          },
          "metadata": {},
          "execution_count": 25
        }
      ]
    },
    {
      "cell_type": "code",
      "source": [
        "5 << 1 == 10"
      ],
      "metadata": {
        "colab": {
          "base_uri": "https://localhost:8080/"
        },
        "id": "X3uF2vb35o5u",
        "outputId": "07893a69-6ad7-4bde-fec7-f596512dd42e"
      },
      "execution_count": null,
      "outputs": [
        {
          "output_type": "execute_result",
          "data": {
            "text/plain": [
              "True"
            ]
          },
          "metadata": {},
          "execution_count": 27
        }
      ]
    },
    {
      "cell_type": "code",
      "source": [
        "5 << 3 == 20"
      ],
      "metadata": {
        "colab": {
          "base_uri": "https://localhost:8080/"
        },
        "id": "TXExvgtu5xhR",
        "outputId": "c72bc77a-c966-490b-9218-c01b7e9af1cc"
      },
      "execution_count": null,
      "outputs": [
        {
          "output_type": "execute_result",
          "data": {
            "text/plain": [
              "False"
            ]
          },
          "metadata": {},
          "execution_count": 29
        }
      ]
    },
    {
      "cell_type": "code",
      "source": [
        "5 ^ 3 == 6"
      ],
      "metadata": {
        "colab": {
          "base_uri": "https://localhost:8080/"
        },
        "id": "9HzkMK2z53J8",
        "outputId": "e4de4eca-1ca4-4ced-d089-b6b8fa32b80c"
      },
      "execution_count": null,
      "outputs": [
        {
          "output_type": "execute_result",
          "data": {
            "text/plain": [
              "True"
            ]
          },
          "metadata": {},
          "execution_count": 30
        }
      ]
    },
    {
      "cell_type": "code",
      "source": [
        "~5 == -5"
      ],
      "metadata": {
        "colab": {
          "base_uri": "https://localhost:8080/"
        },
        "id": "vaRbKbeJ6JKt",
        "outputId": "bad39df7-78b2-4556-ce8f-049e7f4a18d6"
      },
      "execution_count": null,
      "outputs": [
        {
          "output_type": "execute_result",
          "data": {
            "text/plain": [
              "False"
            ]
          },
          "metadata": {},
          "execution_count": 34
        }
      ]
    },
    {
      "cell_type": "code",
      "source": [],
      "metadata": {
        "id": "7gIhQP-36Q2_"
      },
      "execution_count": null,
      "outputs": []
    }
  ]
}