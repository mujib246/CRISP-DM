{
  "nbformat": 4,
  "nbformat_minor": 0,
  "metadata": {
    "colab": {
      "name": "EDA_Lab.ipynb",
      "provenance": [],
      "collapsed_sections": []
    },
    "kernelspec": {
      "name": "python3",
      "display_name": "Python 3"
    }
  },
  "cells": [
    {
      "cell_type": "markdown",
      "metadata": {
        "id": "IYJ6ewfib6qS"
      },
      "source": [
        "**Data Initialization**"
      ]
    },
    {
      "cell_type": "code",
      "metadata": {
        "id": "JKA8lhqTLz0J"
      },
      "source": [
        "import pandas as pd\n",
        "import numpy as np\n",
        "import matplotlib.pyplot as plt\n",
        "import seaborn as sns\n",
        "from sklearn import preprocessing\n",
        "import re as re"
      ],
      "execution_count": null,
      "outputs": []
    },
    {
      "cell_type": "code",
      "metadata": {
        "id": "eijAvRs8Pg-E"
      },
      "source": [
        "losses = pd.read_csv('automobile-losses.csv')\n",
        "risk = pd.read_csv('automobile-risk.csv')\n",
        "spec = pd.read_csv('automobile-spec.csv')"
      ],
      "execution_count": null,
      "outputs": []
    },
    {
      "cell_type": "markdown",
      "metadata": {
        "id": "nFMtXHn9bRSO"
      },
      "source": [
        "**Join Table**"
      ]
    },
    {
      "cell_type": "code",
      "metadata": {
        "id": "ZKruBPcbcFzC"
      },
      "source": [
        "fulljoin = pd.merge(spec, losses, how='outer', on='ID')\n",
        "\n",
        "fulljoin"
      ],
      "execution_count": null,
      "outputs": []
    },
    {
      "cell_type": "markdown",
      "metadata": {
        "id": "CPCXvqbMbVgJ"
      },
      "source": [
        "**Cleansing Data**"
      ]
    },
    {
      "cell_type": "code",
      "metadata": {
        "id": "2wu0deEddn34"
      },
      "source": [
        "fulljoin.shape"
      ],
      "execution_count": null,
      "outputs": []
    },
    {
      "cell_type": "code",
      "metadata": {
        "id": "D08yAdV3dt4D"
      },
      "source": [
        "fulljoin.isnull().sum()"
      ],
      "execution_count": null,
      "outputs": []
    },
    {
      "cell_type": "code",
      "metadata": {
        "id": "WQu6e_TPd9QT"
      },
      "source": [
        "fulljoin['price'].fillna(fulljoin['price'].mean(), inplace=True)"
      ],
      "execution_count": null,
      "outputs": []
    },
    {
      "cell_type": "code",
      "metadata": {
        "id": "IBOAhjZteDq4"
      },
      "source": [
        "fulljoin.isnull().sum()"
      ],
      "execution_count": null,
      "outputs": []
    },
    {
      "cell_type": "markdown",
      "metadata": {
        "id": "xcAk0b95bZJY"
      },
      "source": [
        "**Scatter Plot**"
      ]
    },
    {
      "cell_type": "code",
      "metadata": {
        "id": "ZjyKyBNHiK-a"
      },
      "source": [
        "f=plt.figure(figsize=(10,8))\n",
        "\n",
        "f.add_subplot(1,1,1)\n",
        "horse_price= plt.scatter(fulljoin['engine-size'],fulljoin['price'])\n",
        "plt.title('engine-size vs price ')\n",
        "plt.xlabel('engine-size')\n",
        "plt.ylabel('price($)')"
      ],
      "execution_count": null,
      "outputs": []
    },
    {
      "cell_type": "markdown",
      "metadata": {
        "id": "HkrUDZC-bf8V"
      },
      "source": [
        "**Histogram**"
      ]
    },
    {
      "cell_type": "code",
      "metadata": {
        "id": "QOFHmXOJid-d"
      },
      "source": [
        "f=plt.figure(figsize=(10,8))\n",
        "\n",
        "f.add_subplot(1,1,1)\n",
        "histo_engine= plt.hist(fulljoin['engine-size'],\n",
        "         facecolor='peru', \n",
        "         edgecolor='blue', \n",
        "         bins=10)\n",
        "plt.xlabel('engine size')\n",
        "plt.ylabel('count')"
      ],
      "execution_count": null,
      "outputs": []
    },
    {
      "cell_type": "markdown",
      "metadata": {
        "id": "DEkxI6E_bmVB"
      },
      "source": [
        "**Bar Plot**"
      ]
    },
    {
      "cell_type": "code",
      "metadata": {
        "id": "5tBqLNekimVG"
      },
      "source": [
        "f=plt.figure(figsize=(10,8))\n",
        "\n",
        "f.add_subplot(1,1,1)\n",
        "barplot_make = fulljoin['cylinder'].value_counts().plot(kind='bar');\n",
        "plt.xlabel('engine-size')\n",
        "plt.ylabel('count')"
      ],
      "execution_count": null,
      "outputs": []
    },
    {
      "cell_type": "markdown",
      "metadata": {
        "id": "BeUO6G_WbrsR"
      },
      "source": [
        "**BoxPlot**"
      ]
    },
    {
      "cell_type": "code",
      "metadata": {
        "id": "rYCprHvdi5ZZ"
      },
      "source": [
        "f=plt.figure(figsize=(4,7))\n",
        "f.add_subplot(1,1,1)\n",
        "g = sns.boxplot(y=fulljoin[\"price\"], x=fulljoin[fulljoin.cylinder == 'four'].cylinder)"
      ],
      "execution_count": null,
      "outputs": []
    }
  ]
}