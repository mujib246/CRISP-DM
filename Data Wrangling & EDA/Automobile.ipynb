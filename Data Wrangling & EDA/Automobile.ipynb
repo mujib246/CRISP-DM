{
  "nbformat": 4,
  "nbformat_minor": 0,
  "metadata": {
    "kernelspec": {
      "display_name": "Python 3",
      "language": "python",
      "name": "python3"
    },
    "language_info": {
      "codemirror_mode": {
        "name": "ipython",
        "version": 3
      },
      "file_extension": ".py",
      "mimetype": "text/x-python",
      "name": "python",
      "nbconvert_exporter": "python",
      "pygments_lexer": "ipython3",
      "version": "3.6.4"
    },
    "colab": {
      "name": "Automobile.ipynb",
      "provenance": [],
      "collapsed_sections": []
    }
  },
  "cells": [
    {
      "cell_type": "code",
      "metadata": {
        "id": "KUoA7Ii1i8dB"
      },
      "source": [
        "import pandas as pd\n",
        "import numpy as np\n",
        "import matplotlib.pyplot as plt\n",
        "import seaborn as sns\n",
        "from sklearn import preprocessing\n",
        "import re as re"
      ],
      "execution_count": 2,
      "outputs": []
    },
    {
      "cell_type": "code",
      "metadata": {
        "id": "ixxjkIIRi8dI"
      },
      "source": [
        "losses = pd.read_csv('automobile-losses.csv')\n",
        "risk = pd.read_csv('automobile-risk.csv')\n",
        "spec = pd.read_csv('automobile-spec.csv')"
      ],
      "execution_count": 4,
      "outputs": []
    },
    {
      "cell_type": "code",
      "metadata": {
        "id": "gufAvPfti8dM"
      },
      "source": [
        "losses.head()"
      ],
      "execution_count": null,
      "outputs": []
    },
    {
      "cell_type": "code",
      "metadata": {
        "id": "eHaon4WVi8dQ"
      },
      "source": [
        "risk.head()"
      ],
      "execution_count": null,
      "outputs": []
    },
    {
      "cell_type": "code",
      "metadata": {
        "id": "ItWI7V10i8dZ"
      },
      "source": [
        "spec.head()"
      ],
      "execution_count": null,
      "outputs": []
    },
    {
      "cell_type": "markdown",
      "metadata": {
        "id": "YKclApYbi8dd"
      },
      "source": [
        "# 1. JOIN 3 Tables using ID as key"
      ]
    },
    {
      "cell_type": "code",
      "metadata": {
        "id": "B7wnW3W9i8dl"
      },
      "source": [
        "join1 = pd.merge(losses, risk, how='outer', on ='ID')"
      ],
      "execution_count": 5,
      "outputs": []
    },
    {
      "cell_type": "code",
      "metadata": {
        "id": "HrN--_9Vi8dv"
      },
      "source": [
        "join1.head()"
      ],
      "execution_count": null,
      "outputs": []
    },
    {
      "cell_type": "code",
      "metadata": {
        "id": "m15LzkcGi8dz"
      },
      "source": [
        "fulljoin = pd.merge(spec, join1, how='outer', on='ID')"
      ],
      "execution_count": 6,
      "outputs": []
    },
    {
      "cell_type": "code",
      "metadata": {
        "id": "NqtaZFKxi8eJ"
      },
      "source": [
        "fulljoin.head()"
      ],
      "execution_count": null,
      "outputs": []
    },
    {
      "cell_type": "markdown",
      "metadata": {
        "id": "oS86QRLji8eN"
      },
      "source": [
        " # 2. Quick-look (dimension, data type, head/tail, summary statistics, etc) "
      ]
    },
    {
      "cell_type": "code",
      "metadata": {
        "id": "roL4pYiUi8eP",
        "colab": {
          "base_uri": "https://localhost:8080/"
        },
        "outputId": "4eff8aba-2a1c-4f60-e88e-4bdadc29b4a0"
      },
      "source": [
        "fulljoin.shape"
      ],
      "execution_count": 7,
      "outputs": [
        {
          "output_type": "execute_result",
          "data": {
            "text/plain": [
              "(205, 27)"
            ]
          },
          "metadata": {
            "tags": []
          },
          "execution_count": 7
        }
      ]
    },
    {
      "cell_type": "code",
      "metadata": {
        "id": "dnsamRRli8eS",
        "colab": {
          "base_uri": "https://localhost:8080/"
        },
        "outputId": "89d8f3d6-6611-4a95-a1b1-e29e10f31ae7"
      },
      "source": [
        "fulljoin.info()"
      ],
      "execution_count": 8,
      "outputs": [
        {
          "output_type": "stream",
          "text": [
            "<class 'pandas.core.frame.DataFrame'>\n",
            "Int64Index: 205 entries, 0 to 204\n",
            "Data columns (total 27 columns):\n",
            " #   Column             Non-Null Count  Dtype  \n",
            "---  ------             --------------  -----  \n",
            " 0   ID                 205 non-null    int64  \n",
            " 1   make               205 non-null    object \n",
            " 2   fuel-type          205 non-null    object \n",
            " 3   aspiration         205 non-null    object \n",
            " 4   num-of-doors       204 non-null    object \n",
            " 5   body-style         205 non-null    object \n",
            " 6   drive-wheel        205 non-null    object \n",
            " 7   engine-loc         205 non-null    object \n",
            " 8   wheel-base         205 non-null    float64\n",
            " 9   length             205 non-null    float64\n",
            " 10  width              205 non-null    float64\n",
            " 11  height             205 non-null    float64\n",
            " 12  curb-weight        205 non-null    int64  \n",
            " 13  engine-type        205 non-null    object \n",
            " 14  cylinder           205 non-null    object \n",
            " 15  engine-size        205 non-null    int64  \n",
            " 16  fuel-system        205 non-null    object \n",
            " 17  bore               201 non-null    float64\n",
            " 18  stroke             201 non-null    float64\n",
            " 19  compression-ratio  205 non-null    float64\n",
            " 20  horsepower         203 non-null    float64\n",
            " 21  peak-rpm           203 non-null    float64\n",
            " 22  city-mpg           205 non-null    int64  \n",
            " 23  highway-mpg        205 non-null    int64  \n",
            " 24  price              201 non-null    float64\n",
            " 25  normalized-losses  164 non-null    float64\n",
            " 26  symboling          205 non-null    int64  \n",
            "dtypes: float64(11), int64(6), object(10)\n",
            "memory usage: 44.8+ KB\n"
          ],
          "name": "stdout"
        }
      ]
    },
    {
      "cell_type": "code",
      "metadata": {
        "id": "9Hu6q1zsi8eV"
      },
      "source": [
        "fulljoin.head()"
      ],
      "execution_count": null,
      "outputs": []
    },
    {
      "cell_type": "code",
      "metadata": {
        "id": "r9T_OREBi8eZ",
        "colab": {
          "base_uri": "https://localhost:8080/",
          "height": 334
        },
        "outputId": "b668251e-7a58-41ba-807c-4cabb4f39544"
      },
      "source": [
        "fulljoin.describe()"
      ],
      "execution_count": 10,
      "outputs": [
        {
          "output_type": "execute_result",
          "data": {
            "text/html": [
              "<div>\n",
              "<style scoped>\n",
              "    .dataframe tbody tr th:only-of-type {\n",
              "        vertical-align: middle;\n",
              "    }\n",
              "\n",
              "    .dataframe tbody tr th {\n",
              "        vertical-align: top;\n",
              "    }\n",
              "\n",
              "    .dataframe thead th {\n",
              "        text-align: right;\n",
              "    }\n",
              "</style>\n",
              "<table border=\"1\" class=\"dataframe\">\n",
              "  <thead>\n",
              "    <tr style=\"text-align: right;\">\n",
              "      <th></th>\n",
              "      <th>ID</th>\n",
              "      <th>wheel-base</th>\n",
              "      <th>length</th>\n",
              "      <th>width</th>\n",
              "      <th>height</th>\n",
              "      <th>curb-weight</th>\n",
              "      <th>engine-size</th>\n",
              "      <th>bore</th>\n",
              "      <th>stroke</th>\n",
              "      <th>compression-ratio</th>\n",
              "      <th>horsepower</th>\n",
              "      <th>peak-rpm</th>\n",
              "      <th>city-mpg</th>\n",
              "      <th>highway-mpg</th>\n",
              "      <th>price</th>\n",
              "      <th>normalized-losses</th>\n",
              "      <th>symboling</th>\n",
              "    </tr>\n",
              "  </thead>\n",
              "  <tbody>\n",
              "    <tr>\n",
              "      <th>count</th>\n",
              "      <td>205.000000</td>\n",
              "      <td>205.000000</td>\n",
              "      <td>205.000000</td>\n",
              "      <td>205.000000</td>\n",
              "      <td>205.000000</td>\n",
              "      <td>205.000000</td>\n",
              "      <td>205.000000</td>\n",
              "      <td>201.000000</td>\n",
              "      <td>201.000000</td>\n",
              "      <td>205.000000</td>\n",
              "      <td>203.000000</td>\n",
              "      <td>203.000000</td>\n",
              "      <td>205.000000</td>\n",
              "      <td>205.000000</td>\n",
              "      <td>201.000000</td>\n",
              "      <td>164.000000</td>\n",
              "      <td>205.000000</td>\n",
              "    </tr>\n",
              "    <tr>\n",
              "      <th>mean</th>\n",
              "      <td>103.000000</td>\n",
              "      <td>98.756585</td>\n",
              "      <td>174.049268</td>\n",
              "      <td>65.907805</td>\n",
              "      <td>53.724878</td>\n",
              "      <td>2555.565854</td>\n",
              "      <td>126.907317</td>\n",
              "      <td>3.329751</td>\n",
              "      <td>3.255423</td>\n",
              "      <td>10.142537</td>\n",
              "      <td>104.256158</td>\n",
              "      <td>5125.369458</td>\n",
              "      <td>25.219512</td>\n",
              "      <td>30.751220</td>\n",
              "      <td>13207.129353</td>\n",
              "      <td>122.000000</td>\n",
              "      <td>0.834146</td>\n",
              "    </tr>\n",
              "    <tr>\n",
              "      <th>std</th>\n",
              "      <td>59.322565</td>\n",
              "      <td>6.021776</td>\n",
              "      <td>12.337289</td>\n",
              "      <td>2.145204</td>\n",
              "      <td>2.443522</td>\n",
              "      <td>520.680204</td>\n",
              "      <td>41.642693</td>\n",
              "      <td>0.273539</td>\n",
              "      <td>0.316717</td>\n",
              "      <td>3.972040</td>\n",
              "      <td>39.714369</td>\n",
              "      <td>479.334560</td>\n",
              "      <td>6.542142</td>\n",
              "      <td>6.886443</td>\n",
              "      <td>7947.066342</td>\n",
              "      <td>35.442168</td>\n",
              "      <td>1.245307</td>\n",
              "    </tr>\n",
              "    <tr>\n",
              "      <th>min</th>\n",
              "      <td>1.000000</td>\n",
              "      <td>86.600000</td>\n",
              "      <td>141.100000</td>\n",
              "      <td>60.300000</td>\n",
              "      <td>47.800000</td>\n",
              "      <td>1488.000000</td>\n",
              "      <td>61.000000</td>\n",
              "      <td>2.540000</td>\n",
              "      <td>2.070000</td>\n",
              "      <td>7.000000</td>\n",
              "      <td>48.000000</td>\n",
              "      <td>4150.000000</td>\n",
              "      <td>13.000000</td>\n",
              "      <td>16.000000</td>\n",
              "      <td>5118.000000</td>\n",
              "      <td>65.000000</td>\n",
              "      <td>-2.000000</td>\n",
              "    </tr>\n",
              "    <tr>\n",
              "      <th>25%</th>\n",
              "      <td>52.000000</td>\n",
              "      <td>94.500000</td>\n",
              "      <td>166.300000</td>\n",
              "      <td>64.100000</td>\n",
              "      <td>52.000000</td>\n",
              "      <td>2145.000000</td>\n",
              "      <td>97.000000</td>\n",
              "      <td>3.150000</td>\n",
              "      <td>3.110000</td>\n",
              "      <td>8.600000</td>\n",
              "      <td>70.000000</td>\n",
              "      <td>4800.000000</td>\n",
              "      <td>19.000000</td>\n",
              "      <td>25.000000</td>\n",
              "      <td>7775.000000</td>\n",
              "      <td>94.000000</td>\n",
              "      <td>0.000000</td>\n",
              "    </tr>\n",
              "    <tr>\n",
              "      <th>50%</th>\n",
              "      <td>103.000000</td>\n",
              "      <td>97.000000</td>\n",
              "      <td>173.200000</td>\n",
              "      <td>65.500000</td>\n",
              "      <td>54.100000</td>\n",
              "      <td>2414.000000</td>\n",
              "      <td>120.000000</td>\n",
              "      <td>3.310000</td>\n",
              "      <td>3.290000</td>\n",
              "      <td>9.000000</td>\n",
              "      <td>95.000000</td>\n",
              "      <td>5200.000000</td>\n",
              "      <td>24.000000</td>\n",
              "      <td>30.000000</td>\n",
              "      <td>10295.000000</td>\n",
              "      <td>115.000000</td>\n",
              "      <td>1.000000</td>\n",
              "    </tr>\n",
              "    <tr>\n",
              "      <th>75%</th>\n",
              "      <td>154.000000</td>\n",
              "      <td>102.400000</td>\n",
              "      <td>183.100000</td>\n",
              "      <td>66.900000</td>\n",
              "      <td>55.500000</td>\n",
              "      <td>2935.000000</td>\n",
              "      <td>141.000000</td>\n",
              "      <td>3.590000</td>\n",
              "      <td>3.410000</td>\n",
              "      <td>9.400000</td>\n",
              "      <td>116.000000</td>\n",
              "      <td>5500.000000</td>\n",
              "      <td>30.000000</td>\n",
              "      <td>34.000000</td>\n",
              "      <td>16500.000000</td>\n",
              "      <td>150.000000</td>\n",
              "      <td>2.000000</td>\n",
              "    </tr>\n",
              "    <tr>\n",
              "      <th>max</th>\n",
              "      <td>205.000000</td>\n",
              "      <td>120.900000</td>\n",
              "      <td>208.100000</td>\n",
              "      <td>72.300000</td>\n",
              "      <td>59.800000</td>\n",
              "      <td>4066.000000</td>\n",
              "      <td>326.000000</td>\n",
              "      <td>3.940000</td>\n",
              "      <td>4.170000</td>\n",
              "      <td>23.000000</td>\n",
              "      <td>288.000000</td>\n",
              "      <td>6600.000000</td>\n",
              "      <td>49.000000</td>\n",
              "      <td>54.000000</td>\n",
              "      <td>45400.000000</td>\n",
              "      <td>256.000000</td>\n",
              "      <td>3.000000</td>\n",
              "    </tr>\n",
              "  </tbody>\n",
              "</table>\n",
              "</div>"
            ],
            "text/plain": [
              "               ID  wheel-base  ...  normalized-losses   symboling\n",
              "count  205.000000  205.000000  ...         164.000000  205.000000\n",
              "mean   103.000000   98.756585  ...         122.000000    0.834146\n",
              "std     59.322565    6.021776  ...          35.442168    1.245307\n",
              "min      1.000000   86.600000  ...          65.000000   -2.000000\n",
              "25%     52.000000   94.500000  ...          94.000000    0.000000\n",
              "50%    103.000000   97.000000  ...         115.000000    1.000000\n",
              "75%    154.000000  102.400000  ...         150.000000    2.000000\n",
              "max    205.000000  120.900000  ...         256.000000    3.000000\n",
              "\n",
              "[8 rows x 17 columns]"
            ]
          },
          "metadata": {
            "tags": []
          },
          "execution_count": 10
        }
      ]
    },
    {
      "cell_type": "code",
      "metadata": {
        "colab": {
          "base_uri": "https://localhost:8080/"
        },
        "id": "8AzHpxE8CtR1",
        "outputId": "3c8e724a-92ef-4063-97ef-b09740018c36"
      },
      "source": [
        "fulljoin.dtypes"
      ],
      "execution_count": 13,
      "outputs": [
        {
          "output_type": "execute_result",
          "data": {
            "text/plain": [
              "ID                     int64\n",
              "make                  object\n",
              "fuel-type             object\n",
              "aspiration            object\n",
              "num-of-doors          object\n",
              "body-style            object\n",
              "drive-wheel           object\n",
              "engine-loc            object\n",
              "wheel-base           float64\n",
              "length               float64\n",
              "width                float64\n",
              "height               float64\n",
              "curb-weight            int64\n",
              "engine-type           object\n",
              "cylinder              object\n",
              "engine-size            int64\n",
              "fuel-system           object\n",
              "bore                 float64\n",
              "stroke               float64\n",
              "compression-ratio    float64\n",
              "horsepower           float64\n",
              "peak-rpm             float64\n",
              "city-mpg               int64\n",
              "highway-mpg            int64\n",
              "price                float64\n",
              "normalized-losses    float64\n",
              "symboling              int64\n",
              "dtype: object"
            ]
          },
          "metadata": {
            "tags": []
          },
          "execution_count": 13
        }
      ]
    },
    {
      "cell_type": "markdown",
      "metadata": {
        "id": "XlqPuzBqi8eb"
      },
      "source": [
        " # 3. Entify missing value. If any, how will you handle it?"
      ]
    },
    {
      "cell_type": "code",
      "metadata": {
        "id": "jakEtXU7i8ec",
        "colab": {
          "base_uri": "https://localhost:8080/"
        },
        "outputId": "4e2b7e8d-36f5-419a-939c-ac5ca544f600"
      },
      "source": [
        "fulljoin.isnull().sum()"
      ],
      "execution_count": 14,
      "outputs": [
        {
          "output_type": "execute_result",
          "data": {
            "text/plain": [
              "ID                    0\n",
              "make                  0\n",
              "fuel-type             0\n",
              "aspiration            0\n",
              "num-of-doors          1\n",
              "body-style            0\n",
              "drive-wheel           0\n",
              "engine-loc            0\n",
              "wheel-base            0\n",
              "length                0\n",
              "width                 0\n",
              "height                0\n",
              "curb-weight           0\n",
              "engine-type           0\n",
              "cylinder              0\n",
              "engine-size           0\n",
              "fuel-system           0\n",
              "bore                  4\n",
              "stroke                4\n",
              "compression-ratio     0\n",
              "horsepower            2\n",
              "peak-rpm              2\n",
              "city-mpg              0\n",
              "highway-mpg           0\n",
              "price                 4\n",
              "normalized-losses    41\n",
              "symboling             0\n",
              "dtype: int64"
            ]
          },
          "metadata": {
            "tags": []
          },
          "execution_count": 14
        }
      ]
    },
    {
      "cell_type": "code",
      "metadata": {
        "id": "z7ck_Hfli8eg"
      },
      "source": [
        "fulljoin['num-of-doors'].fillna(fulljoin['num-of-doors'].mode()[0], inplace=True)"
      ],
      "execution_count": 15,
      "outputs": []
    },
    {
      "cell_type": "code",
      "metadata": {
        "id": "bfeqsWF4i8ek"
      },
      "source": [
        "fulljoin['bore'].fillna(fulljoin['bore'].mean(), inplace=True)"
      ],
      "execution_count": 16,
      "outputs": []
    },
    {
      "cell_type": "code",
      "metadata": {
        "id": "AzGZYdF5i8ep"
      },
      "source": [
        "fulljoin['stroke'].fillna(fulljoin['stroke'].mean(), inplace=True)"
      ],
      "execution_count": 17,
      "outputs": []
    },
    {
      "cell_type": "code",
      "metadata": {
        "id": "8ai09I-8i8et"
      },
      "source": [
        "fulljoin['peak-rpm'].fillna(fulljoin['peak-rpm'].mean(), inplace=True)"
      ],
      "execution_count": null,
      "outputs": []
    },
    {
      "cell_type": "code",
      "metadata": {
        "id": "QQM6vOtRi8ex"
      },
      "source": [
        "fulljoin['price'].fillna(fulljoin['price'].mean(), inplace=True)"
      ],
      "execution_count": null,
      "outputs": []
    },
    {
      "cell_type": "code",
      "metadata": {
        "id": "WrOmiJlUi8e1"
      },
      "source": [
        "fulljoin['normalized-losses'].fillna(fulljoin['normalized-losses'].mean(), inplace=True)"
      ],
      "execution_count": null,
      "outputs": []
    },
    {
      "cell_type": "code",
      "metadata": {
        "id": "WW1aZ43Pi8fC"
      },
      "source": [
        "fulljoin['horsepower'].fillna(fulljoin['normalized-losses'].mean(), inplace=True)"
      ],
      "execution_count": null,
      "outputs": []
    },
    {
      "cell_type": "code",
      "metadata": {
        "id": "5OHSScN1i8fG"
      },
      "source": [
        "fulljoin.isnull().sum()"
      ],
      "execution_count": null,
      "outputs": []
    },
    {
      "cell_type": "markdown",
      "metadata": {
        "id": "eqkHpQz1i8fJ"
      },
      "source": [
        "# 4.  Perform visualization using at least 5 difference visualization technique (barplot, scatter "
      ]
    },
    {
      "cell_type": "markdown",
      "metadata": {
        "id": "lEMCbI0Qi8fK"
      },
      "source": [
        "## Scatterplot"
      ]
    },
    {
      "cell_type": "code",
      "metadata": {
        "id": "rOYVmclji8fK"
      },
      "source": [
        "f=plt.figure(figsize=(20,8))\n",
        "\n",
        "f.add_subplot(1,2,1)\n",
        "horse_price= plt.scatter(fulljoin['horsepower'],fulljoin['price'])\n",
        "plt.title('horsepower vs price ')\n",
        "plt.xlabel('horsepower')\n",
        "plt.ylabel('price($)')\n",
        "\n",
        "f.add_subplot(1,2,2)\n",
        "horse_price= plt.scatter(fulljoin['horsepower'],fulljoin['price'])\n",
        "plt.title('city-mpg vs highway-mpg ')\n",
        "plt.xlabel('city-mpg')\n",
        "plt.ylabel('highway-mpg')\n",
        "plt.show()"
      ],
      "execution_count": null,
      "outputs": []
    },
    {
      "cell_type": "markdown",
      "metadata": {
        "id": "DL1f2502i8fN"
      },
      "source": [
        "## Histogram"
      ]
    },
    {
      "cell_type": "code",
      "metadata": {
        "id": "0Sd3cEmai8fO"
      },
      "source": [
        "f=plt.figure(figsize=(20,10))\n",
        "\n",
        "f.add_subplot(2,2,1)\n",
        "histo_engine= plt.hist(fulljoin['engine-size'],\n",
        "         facecolor='peru', \n",
        "         edgecolor='blue', \n",
        "         bins=10)\n",
        "plt.xlabel('engine size')\n",
        "plt.ylabel('count')\n",
        "\n",
        "f.add_subplot(2,2,2)\n",
        "histo_price = plt.hist(fulljoin['city-mpg'], \n",
        "         facecolor='peru', \n",
        "         edgecolor='blue', \n",
        "         bins=10)\n",
        "plt.xlabel('horsepower')\n",
        "plt.ylabel('count')\n",
        "\n",
        "f.add_subplot(2,2,3)\n",
        "histo_price = plt.hist(fulljoin['highway-mpg'], \n",
        "         facecolor='peru', \n",
        "         edgecolor='blue', \n",
        "         bins=10)\n",
        "plt.xlabel('highway-mpg')\n",
        "plt.ylabel('count')\n",
        "\n",
        "f.add_subplot(2,2,4)\n",
        "histo_peakrpm = plt.hist(fulljoin['peak-rpm'], \n",
        "         facecolor='peru', \n",
        "         edgecolor='blue', \n",
        "         bins=10)\n",
        "plt.xlabel('peak-rpm')\n",
        "plt.ylabel('count')\n",
        "\n",
        "plt.show()"
      ],
      "execution_count": null,
      "outputs": []
    },
    {
      "cell_type": "markdown",
      "metadata": {
        "id": "V4UjhcwVi8fR"
      },
      "source": [
        "## Barplot"
      ]
    },
    {
      "cell_type": "code",
      "metadata": {
        "id": "qLecCOWri8fS"
      },
      "source": [
        "f=plt.figure(figsize=(17,8))\n",
        "\n",
        "f.add_subplot(2,2,1)\n",
        "barplot_make = fulljoin['cylinder'].value_counts().plot(kind='bar');\n",
        "plt.xlabel('cylinder')\n",
        "plt.ylabel('count')\n",
        "\n",
        "f.add_subplot(2,2,2)\n",
        "barplot_make = fulljoin['drive-wheel'].value_counts().plot(kind='bar');\n",
        "plt.xlabel('drive-wheel')\n",
        "plt.ylabel('count')\n",
        "\n",
        "f.add_subplot(2,2,3)\n",
        "barplot_make = fulljoin['body-style'].value_counts().plot(kind='bar');\n",
        "plt.xlabel('body-style')\n",
        "plt.ylabel('count')\n",
        "\n",
        "f.add_subplot(2,2,4)\n",
        "barplot_make = fulljoin['make'].value_counts().plot(kind='bar');\n",
        "plt.xlabel('make')\n",
        "plt.ylabel('count')"
      ],
      "execution_count": null,
      "outputs": []
    },
    {
      "cell_type": "markdown",
      "metadata": {
        "id": "JGHJTOEQi8fW"
      },
      "source": [
        "## Boxplot"
      ]
    },
    {
      "cell_type": "code",
      "metadata": {
        "id": "5tBOz3L1i8fX"
      },
      "source": [
        "f=plt.figure(figsize=(17,8))\n",
        "\n",
        "f.add_subplot(1,2,1)\n",
        "sns.boxplot(data = fulljoin, x = 'stroke', color = 'cyan', orient = \"h\").set_title('Boxplot - Stroke')\n",
        "\n",
        "f.add_subplot(1,2,2)\n",
        "sns.boxplot(data = fulljoin, x = 'bore', color = 'red', orient = \"h\").set_title('Boxplot - Bore')"
      ],
      "execution_count": null,
      "outputs": []
    },
    {
      "cell_type": "code",
      "metadata": {
        "id": "RHIykgcZi8fb"
      },
      "source": [
        "f=plt.figure(figsize=(20,13))\n",
        "f.add_subplot(3,1,1)\n",
        "g = sns.boxplot(y=fulljoin[\"horsepower\"], x=fulljoin['make'])\n",
        "f.add_subplot(3,1,2)\n",
        "g = sns.boxplot(y=fulljoin[\"horsepower\"], x=fulljoin['aspiration'])\n",
        "f.add_subplot(3,1,3)\n",
        "g = sns.boxplot(y=fulljoin[\"horsepower\"], x=fulljoin['body-style'])\n",
        "plt.xticks(rotation=60)"
      ],
      "execution_count": null,
      "outputs": []
    },
    {
      "cell_type": "code",
      "metadata": {
        "id": "VTfWJ65-Vul1"
      },
      "source": [
        "f=plt.figure(figsize=(4,7))\n",
        "f.add_subplot(1,1,1)\n",
        "g = sns.boxplot(y=fulljoin[\"horsepower\"], x=fulljoin[fulljoin.make == 'audi'].make)"
      ],
      "execution_count": null,
      "outputs": []
    },
    {
      "cell_type": "markdown",
      "metadata": {
        "id": "mwiZ4y8qi8fd"
      },
      "source": [
        "## Stackplot"
      ]
    },
    {
      "cell_type": "code",
      "metadata": {
        "id": "NJcdWEcci8fe"
      },
      "source": [
        "x = fulljoin['make']"
      ],
      "execution_count": null,
      "outputs": []
    },
    {
      "cell_type": "code",
      "metadata": {
        "id": "MotTQsPGi8fg"
      },
      "source": [
        "y = np.vstack([fulljoin['horsepower'],\n",
        "               fulljoin['city-mpg']]) "
      ],
      "execution_count": null,
      "outputs": []
    },
    {
      "cell_type": "code",
      "metadata": {
        "id": "26ZtfAjsi8fm"
      },
      "source": [
        "plt.figure(figsize=(25,12))\n",
        "# Labels for each stack\n",
        "labels = ['horsepower', \n",
        "          'city-mpg', \n",
        "          ]\n",
        "\n",
        "# Colors for each stack\n",
        "colors = ['sandybrown', \n",
        "          'tomato', \n",
        "          'skyblue']\n",
        "\n",
        "#  Similar to pandas df.plot.area()\n",
        "plt.stackplot(x, y, \n",
        "              labels=labels,\n",
        "              colors=colors, \n",
        "              edgecolor='black')\n",
        "\n",
        "# Plots legend to the upperleft of Figure\n",
        "plt.legend(loc=2)\n",
        "\n",
        "plt.show()"
      ],
      "execution_count": null,
      "outputs": []
    },
    {
      "cell_type": "markdown",
      "metadata": {
        "id": "aROJw2BFi8fq"
      },
      "source": [
        "## Correlation"
      ]
    },
    {
      "cell_type": "code",
      "metadata": {
        "id": "_9xge9IRi8fs",
        "colab": {
          "base_uri": "https://localhost:8080/",
          "height": 963
        },
        "outputId": "c7d4215b-cdeb-4e54-ce57-e7345ca15da9"
      },
      "source": [
        "#create correlation with hitmap\n",
        "\n",
        "#create correlation\n",
        "corr = fulljoin.corr(method = 'pearson')\n",
        "\n",
        "#convert correlation to numpy array\n",
        "mask = np.array(corr)\n",
        "\n",
        "#to mask the repetitive value for each pair\n",
        "mask[np.tril_indices_from(mask)] = False\n",
        "\n",
        "fig, ax = plt.subplots(figsize = (15,12))\n",
        "fig.set_size_inches(30,15)\n",
        "sns.heatmap(corr, mask = mask, vmax =  0.8, square = True, annot = True)"
      ],
      "execution_count": 44,
      "outputs": [
        {
          "output_type": "execute_result",
          "data": {
            "text/plain": [
              "<matplotlib.axes._subplots.AxesSubplot at 0x7f98062f0ac8>"
            ]
          },
          "metadata": {
            "tags": []
          },
          "execution_count": 44
        },
        {
          "output_type": "display_data",
          "data": {
            "image/png": "[encoded data removed]",
            "text/plain": [
              "<Figure size 2160x1080 with 2 Axes>"
            ]
          },
          "metadata": {
            "tags": [],
            "needs_background": "light"
          }
        }
      ]
    },
    {
      "cell_type": "markdown",
      "metadata": {
        "id": "sIkM4IAwi8fu"
      },
      "source": [
        "# PART 2"
      ]
    },
    {
      "cell_type": "markdown",
      "metadata": {
        "id": "OxpE02kKi8fv"
      },
      "source": [
        "# 1.  Car brand with highest price"
      ]
    },
    {
      "cell_type": "code",
      "metadata": {
        "id": "mBA51bsmi8fw",
        "colab": {
          "base_uri": "https://localhost:8080/"
        },
        "outputId": "5a51eb43-4219-4758-b4b8-5e861f51be37"
      },
      "source": [
        "carbrand= fulljoin.groupby('make')\n",
        "higgest_price = carbrand['price'].max()\n",
        "higgest_price.head(3)"
      ],
      "execution_count": 19,
      "outputs": [
        {
          "output_type": "execute_result",
          "data": {
            "text/plain": [
              "make\n",
              "alfa-romero    16500.0\n",
              "audi           23875.0\n",
              "bmw            41315.0\n",
              "Name: price, dtype: float64"
            ]
          },
          "metadata": {
            "tags": []
          },
          "execution_count": 19
        }
      ]
    },
    {
      "cell_type": "markdown",
      "metadata": {
        "id": "4z0oVwZqi8fz"
      },
      "source": [
        "# 2. Maximum horsepower for car with 6 cylinder engine "
      ]
    },
    {
      "cell_type": "code",
      "metadata": {
        "id": "CJ6TKggmi8fz",
        "colab": {
          "base_uri": "https://localhost:8080/"
        },
        "outputId": "86e44d70-feec-4663-c9a7-6250a32d861e"
      },
      "source": [
        "six_cylinder = fulljoin[fulljoin.cylinder == 'six']\n",
        "max_cylinder = six_cylinder['horsepower'].max()\n",
        "max_cylinder"
      ],
      "execution_count": 26,
      "outputs": [
        {
          "output_type": "execute_result",
          "data": {
            "text/plain": [
              "207.0"
            ]
          },
          "metadata": {
            "tags": []
          },
          "execution_count": 26
        }
      ]
    },
    {
      "cell_type": "markdown",
      "metadata": {
        "id": "0dTpbvzdi8f2"
      },
      "source": [
        "# 3. Average peak-rpm for ‘turbo’ style aspiration car "
      ]
    },
    {
      "cell_type": "code",
      "metadata": {
        "id": "3KbQSc_pi8f3",
        "colab": {
          "base_uri": "https://localhost:8080/"
        },
        "outputId": "5437d15a-b389-49dd-e57d-82d6d33574ee"
      },
      "source": [
        "turbo_style = fulljoin[fulljoin.aspiration == 'turbo']\n",
        "avg_turbo = turbo_style['peak-rpm'].mean()\n",
        "avg_turbo"
      ],
      "execution_count": 21,
      "outputs": [
        {
          "output_type": "execute_result",
          "data": {
            "text/plain": [
              "4939.189189189189"
            ]
          },
          "metadata": {
            "tags": []
          },
          "execution_count": 21
        }
      ]
    },
    {
      "cell_type": "markdown",
      "metadata": {
        "id": "Wi9gwlbni8f5"
      },
      "source": [
        "# 4. Average price based on body-style"
      ]
    },
    {
      "cell_type": "code",
      "metadata": {
        "id": "rNrILj9oi8f6",
        "colab": {
          "base_uri": "https://localhost:8080/"
        },
        "outputId": "fda85b60-5156-494e-d1c0-5970a9608fc2"
      },
      "source": [
        "bodystyle = fulljoin.groupby('body-style')\n",
        "avg_price = bodystyle['price'].mean()\n",
        "avg_price"
      ],
      "execution_count": 22,
      "outputs": [
        {
          "output_type": "execute_result",
          "data": {
            "text/plain": [
              "body-style\n",
              "convertible    21890.500000\n",
              "hardtop        22208.500000\n",
              "hatchback       9957.441176\n",
              "sedan          14459.755319\n",
              "wagon          12371.960000\n",
              "Name: price, dtype: float64"
            ]
          },
          "metadata": {
            "tags": []
          },
          "execution_count": 22
        }
      ]
    },
    {
      "cell_type": "markdown",
      "metadata": {
        "id": "Sxs8PiPni8f8"
      },
      "source": [
        "# 5. Average price based on body-style only for Honda car (make=Honda)"
      ]
    },
    {
      "cell_type": "code",
      "metadata": {
        "id": "9qVqz342i8f8",
        "colab": {
          "base_uri": "https://localhost:8080/"
        },
        "outputId": "c3919647-19d9-4ac6-c9c4-81d2fca52e3e"
      },
      "source": [
        "onlyhonda = fulljoin[fulljoin.make == 'honda']\n",
        "bodystyle = onlyhonda.groupby('body-style')\n",
        "avg_price_honda = bodystyle['price'].mean()\n",
        "avg_price_honda"
      ],
      "execution_count": 23,
      "outputs": [
        {
          "output_type": "execute_result",
          "data": {
            "text/plain": [
              "body-style\n",
              "hatchback    7054.428571\n",
              "sedan        9945.000000\n",
              "wagon        7295.000000\n",
              "Name: price, dtype: float64"
            ]
          },
          "metadata": {
            "tags": []
          },
          "execution_count": 23
        }
      ]
    }
  ]
}